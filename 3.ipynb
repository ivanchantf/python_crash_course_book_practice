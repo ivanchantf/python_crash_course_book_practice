{
 "cells": [
  {
   "cell_type": "markdown",
   "id": "44869efd",
   "metadata": {},
   "source": [
    "Exception Handling"
   ]
  },
  {
   "cell_type": "code",
   "execution_count": 4,
   "id": "7a9f4b5d",
   "metadata": {},
   "outputs": [
    {
     "name": "stdout",
     "output_type": "stream",
     "text": [
      "Two inputs need to be number\n"
     ]
    }
   ],
   "source": [
    "a= input(\"Enter a number\")\n",
    "b= input ('Enter another number')\n",
    "try:\n",
    "    c= int(a)+int(b)\n",
    "except ValueError:\n",
    "    print('Two inputs need to be number')\n",
    "else:\n",
    "    print(f\"The sum is {c}\")"
   ]
  },
  {
   "cell_type": "code",
   "execution_count": 6,
   "id": "47a61e46",
   "metadata": {},
   "outputs": [
    {
     "name": "stdout",
     "output_type": "stream",
     "text": [
      "input must be number\n",
      "input must be number\n",
      "input must be number\n",
      "4396\n"
     ]
    }
   ],
   "source": [
    "sum=0\n",
    "while True:  \n",
    "    try:\n",
    "        a= input(\"Enter a number (use q to exit)\")\n",
    "        if a =='q':\n",
    "            break\n",
    "        c=int(a)\n",
    "    except ValueError:\n",
    "        print('input must be number')\n",
    "    else:\n",
    "        sum+=c\n",
    "print(sum)\n",
    "  \n"
   ]
  },
  {
   "cell_type": "code",
   "execution_count": null,
   "id": "f95ef7ed",
   "metadata": {},
   "outputs": [],
   "source": [
    "try:\n",
    "    with open('cats.txt') as file_obj:\n",
    "        content1=file_obj.read()\n",
    "    with open('dogs.txt') as file_obj:\n",
    "        content2=file_obj.read()\n",
    "except FileNotFoundError:\n",
    "    #print('FileNotFoundError; cats and dogs need to provide')\n",
    "    pass #silently except\n",
    "else: \n",
    "    print(content1)\n",
    "    print(content2) "
   ]
  },
  {
   "cell_type": "markdown",
   "id": "0956e8db",
   "metadata": {},
   "source": [
    "Stroing result in json with dump('',obj) and load(obj) "
   ]
  },
  {
   "cell_type": "code",
   "execution_count": 19,
   "id": "6eaaddb6",
   "metadata": {},
   "outputs": [
    {
     "name": "stdout",
     "output_type": "stream",
     "text": [
      "we got u 4\n"
     ]
    }
   ],
   "source": [
    "import json\n",
    "\n",
    "\n",
    "try:\n",
    "    with open('fav_num.json') as file_object:\n",
    "        fav_num = json.load(file_object) \n",
    "except FileNotFoundError:\n",
    "    print('No record')\n",
    "    fav_num = input('what is your fav num?')\n",
    "    with open('fav_num.json','w') as file_object:\n",
    "        json.dump(fav_num,file_object)\n",
    "    print('record stored successfully')\n",
    "else:\n",
    "    print(f'we got u {fav_num}')\n"
   ]
  },
  {
   "cell_type": "code",
   "execution_count": null,
   "id": "2f104081",
   "metadata": {},
   "outputs": [],
   "source": []
  }
 ],
 "metadata": {
  "kernelspec": {
   "display_name": "base",
   "language": "python",
   "name": "python3"
  },
  "language_info": {
   "codemirror_mode": {
    "name": "ipython",
    "version": 3
   },
   "file_extension": ".py",
   "mimetype": "text/x-python",
   "name": "python",
   "nbconvert_exporter": "python",
   "pygments_lexer": "ipython3",
   "version": "3.13.5"
  }
 },
 "nbformat": 4,
 "nbformat_minor": 5
}
