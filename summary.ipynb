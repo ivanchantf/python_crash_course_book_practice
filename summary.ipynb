{
 "cells": [
  {
   "cell_type": "markdown",
   "id": "1d16d8f1",
   "metadata": {},
   "source": [
    "# Python Basics Summary\n",
    "\n"
   ]
  },
  {
   "cell_type": "markdown",
   "id": "5d09f2ec",
   "metadata": {},
   "source": [
    "## String Manipulation"
   ]
  },
  {
   "cell_type": "code",
   "execution_count": 180,
   "id": "4d5f51e2",
   "metadata": {},
   "outputs": [
    {
     "name": "stdout",
     "output_type": "stream",
     "text": [
      "Test\n",
      "test\n",
      "test \n",
      " test\n",
      "TEST\n",
      "test\n",
      "HELLO WORLD\n"
     ]
    }
   ],
   "source": [
    "print('test'.title())\n",
    "print(' test '.strip())\n",
    "print(' test '.lstrip())\n",
    "print(' test '.rstrip())\n",
    "print('test'.upper())\n",
    "print('TEST'.lower())\n",
    "a = 'Hello World'\n",
    "print(f\"{a.upper()}\")"
   ]
  },
  {
   "cell_type": "code",
   "execution_count": 181,
   "id": "a02cf57a",
   "metadata": {},
   "outputs": [
    {
     "name": "stdout",
     "output_type": "stream",
     "text": [
      "\n",
      "\tHello!\n",
      "\n"
     ]
    }
   ],
   "source": [
    "print(\"\\n\\tHello!\\n\")"
   ]
  },
  {
   "cell_type": "markdown",
   "id": "12c0ae66",
   "metadata": {},
   "source": [
    "## Number"
   ]
  },
  {
   "cell_type": "code",
   "execution_count": 182,
   "id": "661a193d",
   "metadata": {},
   "outputs": [
    {
     "name": "stdout",
     "output_type": "stream",
     "text": [
      "0.30000000000000004\n",
      "0.30000000000000004\n"
     ]
    }
   ],
   "source": [
    "print(0.2+0.1)\n",
    "print(3*0.1)"
   ]
  },
  {
   "cell_type": "code",
   "execution_count": 183,
   "id": "c97e109c",
   "metadata": {},
   "outputs": [
    {
     "name": "stdout",
     "output_type": "stream",
     "text": [
      "8\n",
      "8\n",
      "8\n",
      "8.0\n",
      "8.5\n"
     ]
    }
   ],
   "source": [
    "print(2+6)\n",
    "print(10-2)\n",
    "print(2*4)\n",
    "print(16/2)\n",
    "print(17/2)"
   ]
  },
  {
   "cell_type": "markdown",
   "id": "a621d187",
   "metadata": {},
   "source": [
    "## List"
   ]
  },
  {
   "cell_type": "markdown",
   "id": "04f0520c",
   "metadata": {},
   "source": [
    "### Create List"
   ]
  },
  {
   "cell_type": "code",
   "execution_count": 184,
   "id": "81522fcc",
   "metadata": {},
   "outputs": [],
   "source": [
    "li_names = ['Peter','Mary','John']"
   ]
  },
  {
   "cell_type": "markdown",
   "id": "601537bf",
   "metadata": {},
   "source": [
    "### Read List"
   ]
  },
  {
   "cell_type": "code",
   "execution_count": 185,
   "id": "edfbf4c7",
   "metadata": {},
   "outputs": [
    {
     "name": "stdout",
     "output_type": "stream",
     "text": [
      "John\n"
     ]
    }
   ],
   "source": [
    "print(li_names[2])"
   ]
  },
  {
   "cell_type": "markdown",
   "id": "f146d840",
   "metadata": {},
   "source": [
    "### Insert Record to List"
   ]
  },
  {
   "cell_type": "code",
   "execution_count": 186,
   "id": "36f7ee24",
   "metadata": {},
   "outputs": [
    {
     "name": "stdout",
     "output_type": "stream",
     "text": [
      "['Peter', 'Mary', 'John', 'Ken']\n"
     ]
    }
   ],
   "source": [
    "li_names.append('Ken')\n",
    "print(li_names)"
   ]
  },
  {
   "cell_type": "code",
   "execution_count": 187,
   "id": "68c6913d",
   "metadata": {},
   "outputs": [
    {
     "name": "stdout",
     "output_type": "stream",
     "text": [
      "['Peter', 'Mary', 'Kitty', 'John', 'Ken']\n"
     ]
    }
   ],
   "source": [
    "li_names.insert(2,'Kitty')\n",
    "print(li_names)"
   ]
  },
  {
   "cell_type": "markdown",
   "id": "f8993149",
   "metadata": {},
   "source": [
    "### Remove Record from List"
   ]
  },
  {
   "cell_type": "code",
   "execution_count": 188,
   "id": "f0592e6a",
   "metadata": {},
   "outputs": [
    {
     "name": "stdout",
     "output_type": "stream",
     "text": [
      "['Peter', 'Mary', 'Kitty', 'John', 'Ken']\n",
      "['Peter', 'Mary', 'John', 'Ken']\n"
     ]
    }
   ],
   "source": [
    "print(li_names)\n",
    "del li_names[2]\n",
    "print(li_names)"
   ]
  },
  {
   "cell_type": "code",
   "execution_count": 189,
   "id": "3d570a50",
   "metadata": {},
   "outputs": [
    {
     "name": "stdout",
     "output_type": "stream",
     "text": [
      "['Peter', 'Mary', 'John', 'Ken']\n",
      "['Peter', 'Mary', 'John']\n"
     ]
    }
   ],
   "source": [
    "print(li_names)\n",
    "li_names.remove(\"Ken\") #only remove first occurence\n",
    "print(li_names)"
   ]
  },
  {
   "cell_type": "code",
   "execution_count": 190,
   "id": "ee34bb50",
   "metadata": {},
   "outputs": [
    {
     "name": "stdout",
     "output_type": "stream",
     "text": [
      "['Peter', 'Mary', 'John']\n",
      "item being popped : John\n",
      "['Peter', 'Mary']\n"
     ]
    }
   ],
   "source": [
    "print(li_names)\n",
    "name = li_names.pop()\n",
    "print(f\"item being popped : {name}\")\n",
    "print(li_names)"
   ]
  },
  {
   "cell_type": "markdown",
   "id": "df1b0b74",
   "metadata": {},
   "source": [
    "### Sort List"
   ]
  },
  {
   "cell_type": "code",
   "execution_count": 191,
   "id": "c0f1171d",
   "metadata": {},
   "outputs": [
    {
     "name": "stdout",
     "output_type": "stream",
     "text": [
      "['Celina', 'Ken', 'Mary', 'May', 'Peter']\n"
     ]
    }
   ],
   "source": [
    "# affect original list\n",
    "li_names = ['Ken','Mary','May','Peter','Celina']\n",
    "li_names.sort()\n",
    "print(li_names)"
   ]
  },
  {
   "cell_type": "code",
   "execution_count": 192,
   "id": "745dd4f3",
   "metadata": {},
   "outputs": [
    {
     "name": "stdout",
     "output_type": "stream",
     "text": [
      "['Peter', 'May', 'Mary', 'Ken', 'Celina']\n"
     ]
    }
   ],
   "source": [
    "# affect original list\n",
    "li_names = ['Ken','Mary','May','Peter','Celina']\n",
    "li_names.sort(reverse=True)\n",
    "print(li_names)"
   ]
  },
  {
   "cell_type": "code",
   "execution_count": 193,
   "id": "42823474",
   "metadata": {},
   "outputs": [
    {
     "name": "stdout",
     "output_type": "stream",
     "text": [
      "['Celina', 'Peter', 'May', 'Mary', 'Ken']\n"
     ]
    }
   ],
   "source": [
    "# affect original list\n",
    "li_names = ['Ken','Mary','May','Peter','Celina']\n",
    "li_names.reverse()\n",
    "print(li_names)"
   ]
  },
  {
   "cell_type": "code",
   "execution_count": 194,
   "id": "c42bb756",
   "metadata": {},
   "outputs": [
    {
     "name": "stdout",
     "output_type": "stream",
     "text": [
      "['Celina', 'Ken', 'Mary', 'May', 'Peter']\n",
      "['Ken', 'Mary', 'May', 'Peter', 'Celina']\n"
     ]
    }
   ],
   "source": [
    "# WITHOUT affect original list\n",
    "li_names = ['Ken','Mary','May','Peter','Celina']\n",
    "print(sorted(li_names))\n",
    "print(li_names)"
   ]
  },
  {
   "cell_type": "markdown",
   "id": "4cca589a",
   "metadata": {},
   "source": [
    "### Len of List"
   ]
  },
  {
   "cell_type": "code",
   "execution_count": 195,
   "id": "f027c70e",
   "metadata": {},
   "outputs": [
    {
     "name": "stdout",
     "output_type": "stream",
     "text": [
      "3\n"
     ]
    }
   ],
   "source": [
    "print(len(['itemA','itemB','itemC']))"
   ]
  },
  {
   "cell_type": "markdown",
   "id": "c4b4d31a",
   "metadata": {},
   "source": [
    "## Looping"
   ]
  },
  {
   "cell_type": "code",
   "execution_count": 196,
   "id": "273b6b5c",
   "metadata": {},
   "outputs": [
    {
     "name": "stdout",
     "output_type": "stream",
     "text": [
      "Mary\n",
      "Ken\n",
      "Jacky\n"
     ]
    }
   ],
   "source": [
    "for i in ['Mary','Ken','Jacky']:\n",
    "    print(i)"
   ]
  },
  {
   "cell_type": "code",
   "execution_count": 197,
   "id": "e96e14b6",
   "metadata": {},
   "outputs": [
    {
     "name": "stdout",
     "output_type": "stream",
     "text": [
      "1\n",
      "2\n",
      "3\n",
      "4\n",
      "5\n",
      "6\n",
      "7\n",
      "8\n",
      "9\n",
      "10\n",
      "11\n",
      "12\n",
      "13\n",
      "14\n",
      "15\n",
      "16\n",
      "17\n",
      "18\n",
      "19\n",
      "20\n"
     ]
    }
   ],
   "source": [
    "for i in range(1,21):\n",
    "  print(i)"
   ]
  },
  {
   "cell_type": "code",
   "execution_count": 198,
   "id": "8f57a06a",
   "metadata": {},
   "outputs": [
    {
     "name": "stdout",
     "output_type": "stream",
     "text": [
      "1000000\n",
      "1\n",
      "500000500000\n"
     ]
    }
   ],
   "source": [
    "list_of_million = list(range(1,1000001))\n",
    "print(max(list_of_million))\n",
    "print(min(list_of_million))\n",
    "print(sum(list_of_million))"
   ]
  },
  {
   "cell_type": "code",
   "execution_count": 199,
   "id": "8db9bd4b",
   "metadata": {},
   "outputs": [
    {
     "name": "stdout",
     "output_type": "stream",
     "text": [
      "1\n",
      "3\n",
      "5\n",
      "7\n",
      "9\n",
      "11\n",
      "13\n",
      "15\n",
      "17\n",
      "19\n",
      "--similar--\n",
      "3\n",
      "6\n",
      "9\n",
      "12\n",
      "15\n",
      "18\n",
      "21\n",
      "24\n",
      "27\n",
      "30\n"
     ]
    }
   ],
   "source": [
    "li=[]\n",
    "for  i in range(1,21,2):\n",
    "  li.append(i)\n",
    "for j in li:\n",
    "  print(j)\n",
    "\n",
    "print('--similar--')\n",
    "li=[]\n",
    "for i in range(3,31,3): #3 as stepsize\n",
    "  li.append(i)\n",
    "for i in li:\n",
    "  print (i)"
   ]
  },
  {
   "cell_type": "markdown",
   "id": "739d3bc5",
   "metadata": {},
   "source": [
    "### List Comprehension"
   ]
  },
  {
   "cell_type": "code",
   "execution_count": 200,
   "id": "99db6d87",
   "metadata": {},
   "outputs": [
    {
     "data": {
      "text/plain": [
       "[1, 8, 27, 64, 125, 216, 343, 512, 729, 1000]"
      ]
     },
     "execution_count": 200,
     "metadata": {},
     "output_type": "execute_result"
    }
   ],
   "source": [
    "list_of_cube= [x*x*x  for x in range(1,11)]\n",
    "list_of_cube"
   ]
  },
  {
   "cell_type": "markdown",
   "id": "4732b9b5",
   "metadata": {},
   "source": [
    "### Slicing a List"
   ]
  },
  {
   "cell_type": "code",
   "execution_count": 201,
   "id": "2a9e819d",
   "metadata": {},
   "outputs": [
    {
     "name": "stdout",
     "output_type": "stream",
     "text": [
      "The first 3 letters are : ['a', 'b', 'c']\n",
      "The last 3 letters are : ['f', 'g', 'h']\n",
      "The 4th to 6th items are : ['d', 'e', 'f']\n"
     ]
    }
   ],
   "source": [
    "li = ['a','b','c','d','e','f','g','h']\n",
    "print(\"The first 3 letters are : \"+ str(li[:3]))\n",
    "print(\"The last 3 letters are : \"+ str(li[-3:]))\n",
    "print(\"The 4th to 6th items are : \"+ str(li[3:6]))"
   ]
  },
  {
   "cell_type": "markdown",
   "id": "aa7e5fde",
   "metadata": {},
   "source": [
    "### Copy a List"
   ]
  },
  {
   "cell_type": "code",
   "execution_count": 202,
   "id": "21c7cb48",
   "metadata": {},
   "outputs": [
    {
     "name": "stdout",
     "output_type": "stream",
     "text": [
      "['pineapple', 'ham', 'cheese', 'chicken', 'seafood']\n",
      "['mango', 'ham', 'cheese', 'chicken', 'seafood']\n"
     ]
    }
   ],
   "source": [
    "pizzas=['ham','cheese','chicken','seafood']\n",
    "pizzas_copy=pizzas[:]\n",
    "pizzas.insert(0,'pineapple')\n",
    "pizzas_copy.insert(0,'mango')\n",
    "print(pizzas)\n",
    "print(pizzas_copy)#different copy"
   ]
  },
  {
   "cell_type": "markdown",
   "id": "e7fc248d",
   "metadata": {},
   "source": [
    "### Tuple"
   ]
  },
  {
   "cell_type": "code",
   "execution_count": 203,
   "id": "b3c766ec",
   "metadata": {},
   "outputs": [
    {
     "name": "stdout",
     "output_type": "stream",
     "text": [
      "chicken\n",
      "dimsum\n",
      "sushi\n",
      "sashimi\n"
     ]
    }
   ],
   "source": [
    "buffet_food=('chicken','dimsum','sushi','sashimi') #tuple are just immutable list\n",
    "for f in buffet_food:\n",
    "  print(f)\n"
   ]
  },
  {
   "cell_type": "markdown",
   "id": "6a0101ac",
   "metadata": {},
   "source": [
    "Modifying tuple cause Error"
   ]
  },
  {
   "cell_type": "code",
   "execution_count": 216,
   "id": "56037852",
   "metadata": {},
   "outputs": [
    {
     "ename": "TypeError",
     "evalue": "'tuple' object does not support item assignment",
     "output_type": "error",
     "traceback": [
      "\u001b[0;31m---------------------------------------------------------------------------\u001b[0m",
      "\u001b[0;31mTypeError\u001b[0m                                 Traceback (most recent call last)",
      "Cell \u001b[0;32mIn[216], line 1\u001b[0m\n\u001b[0;32m----> 1\u001b[0m buffet_food[\u001b[38;5;241m3\u001b[39m]\u001b[38;5;241m=\u001b[39m\u001b[38;5;124m'\u001b[39m\u001b[38;5;124mpizza\u001b[39m\u001b[38;5;124m'\u001b[39m\n",
      "\u001b[0;31mTypeError\u001b[0m: 'tuple' object does not support item assignment"
     ]
    }
   ],
   "source": [
    "buffet_food[3]='pizza'"
   ]
  },
  {
   "cell_type": "markdown",
   "id": "feb283d3",
   "metadata": {},
   "source": [
    "## Conditionals"
   ]
  },
  {
   "cell_type": "code",
   "execution_count": 205,
   "id": "7e070eac",
   "metadata": {},
   "outputs": [
    {
     "name": "stdout",
     "output_type": "stream",
     "text": [
      "Predicted True |Actual: True\n",
      "Predicted True |Actual: True\n",
      "Predicted False | Actual: False\n",
      "Predicted False | Actual: False\n",
      "Predicted True | Actual: True\n"
     ]
    }
   ],
   "source": [
    "fruit = 'mango'\n",
    "print (f\"Predicted True |Actual: {'mango'==fruit}\")\n",
    "print (f\"Predicted True |Actual: {3==3}\")\n",
    "print (f\"Predicted False | Actual: {'Mango'==fruit}\")\n",
    "print (f\"Predicted False | Actual: {3=='3'}\")\n",
    "print (f\"Predicted True | Actual: {'AuDi'.lower()=='audi'}\")"
   ]
  },
  {
   "cell_type": "code",
   "execution_count": 206,
   "id": "ec45d3be",
   "metadata": {},
   "outputs": [
    {
     "name": "stdout",
     "output_type": "stream",
     "text": [
      "Predicted True | Actual: True\n",
      "Predicted True | Actual: True\n",
      "Predicted True | Actual: True\n",
      "Predicted False | Actual: False\n",
      "Predicted False | Actual: False\n"
     ]
    }
   ],
   "source": [
    "print (f\"Predicted True | Actual: {3==3.0}\")\n",
    "print (f\"Predicted True | Actual: {3<=3.0}\")\n",
    "print (f\"Predicted True | Actual: {3>=3.0}\")\n",
    "print (f\"Predicted False | Actual: {3<3.0}\")\n",
    "print (f\"Predicted False | Actual: {3>3.0}\")"
   ]
  },
  {
   "cell_type": "markdown",
   "id": "bcc4f93d",
   "metadata": {},
   "source": [
    "### and/or"
   ]
  },
  {
   "cell_type": "code",
   "execution_count": 207,
   "id": "ed930be5",
   "metadata": {},
   "outputs": [
    {
     "name": "stdout",
     "output_type": "stream",
     "text": [
      "False\n",
      "False\n"
     ]
    }
   ],
   "source": [
    "print(3<2 and 4>5)\n",
    "print(1==4 or 3>5)"
   ]
  },
  {
   "cell_type": "markdown",
   "id": "20c8c4ae",
   "metadata": {},
   "source": [
    "### Existence in List"
   ]
  },
  {
   "cell_type": "code",
   "execution_count": 208,
   "id": "d6c7d972",
   "metadata": {},
   "outputs": [
    {
     "name": "stdout",
     "output_type": "stream",
     "text": [
      "True\n",
      "True\n"
     ]
    }
   ],
   "source": [
    "buffet_food=('juice','fruit','sushi','sashimi')\n",
    "print('juice' in buffet_food)\n",
    "print('beef' not in buffet_food)"
   ]
  },
  {
   "cell_type": "markdown",
   "id": "7669ffa5",
   "metadata": {},
   "source": [
    "### Elif/Else"
   ]
  },
  {
   "cell_type": "code",
   "execution_count": 209,
   "id": "b9e068fc",
   "metadata": {},
   "outputs": [
    {
     "name": "stdout",
     "output_type": "stream",
     "text": [
      "You won 20 pts\n"
     ]
    }
   ],
   "source": [
    "alien_color = 'yellow'\n",
    "if alien_color=='green':\n",
    "  print(\"You have won 5 pts\")\n",
    "elif alien_color =='red':\n",
    "  print (\"You have won 10 pts\")\n",
    "else:\n",
    "  print(\"You won 20 pts\")"
   ]
  },
  {
   "cell_type": "code",
   "execution_count": 210,
   "id": "42a27e08",
   "metadata": {},
   "outputs": [
    {
     "name": "stdout",
     "output_type": "stream",
     "text": [
      "Welcome back, edwin. Thank you for login\n",
      "Welcome back, june. Thank you for login\n",
      "Hello admin, do you want to view a report\n",
      "Welcome back, candy. Thank you for login\n"
     ]
    }
   ],
   "source": [
    "usernames=['edwin','june','admin','candy']\n",
    "for i in usernames:\n",
    "  if i =='admin':\n",
    "    print(f'Hello {i}, do you want to view a report')\n",
    "  else:\n",
    "    print(f\"Welcome back, {i}. Thank you for login\")"
   ]
  },
  {
   "cell_type": "markdown",
   "id": "0a8bdf01",
   "metadata": {},
   "source": [
    "### Empty List or not"
   ]
  },
  {
   "cell_type": "code",
   "execution_count": 211,
   "id": "322a8389",
   "metadata": {},
   "outputs": [
    {
     "name": "stdout",
     "output_type": "stream",
     "text": [
      "List is empty\n"
     ]
    }
   ],
   "source": [
    "usernames=[]\n",
    "if usernames:\n",
    "    print('List not empty')\n",
    "else:\n",
    "    print('List is empty')"
   ]
  },
  {
   "cell_type": "markdown",
   "id": "f65d8f20",
   "metadata": {},
   "source": [
    "## Dictionary"
   ]
  },
  {
   "cell_type": "code",
   "execution_count": 212,
   "id": "5212d27e",
   "metadata": {},
   "outputs": [
    {
     "name": "stdout",
     "output_type": "stream",
     "text": [
      "Ivan\n",
      "Chan\n",
      "26\n",
      "HK\n"
     ]
    }
   ],
   "source": [
    "employee_a = {\n",
    "    \"first_name\":\"Ivan\",\n",
    "    \"last_name\":\"Chan\",\n",
    "    \"age\":26,\n",
    "    \"city\":\"HK\",\n",
    "}\n",
    "print(employee_a['first_name'])\n",
    "print(employee_a['last_name'])\n",
    "print(employee_a['age'])\n",
    "print(employee_a['city'])"
   ]
  },
  {
   "cell_type": "code",
   "execution_count": 213,
   "id": "c89fe3c7",
   "metadata": {},
   "outputs": [
    {
     "name": "stdout",
     "output_type": "stream",
     "text": [
      "ivan Like 2\n",
      "jack Like 3\n",
      "ken Like 5\n"
     ]
    }
   ],
   "source": [
    "fav_nums={\n",
    "    \"ivan\":2,\n",
    "    \"jack\":3,\n",
    "    \"ken\":5\n",
    "}\n",
    "for i in fav_nums:\n",
    "  print(f\"{i} Like {fav_nums[i]}\")"
   ]
  },
  {
   "cell_type": "code",
   "execution_count": 214,
   "id": "a6c2dd06",
   "metadata": {},
   "outputs": [
    {
     "name": "stdout",
     "output_type": "stream",
     "text": [
      "variable:\n",
      "\tIt means values u can change in a program\n",
      "\n",
      "string:\n",
      "\tIt means  data type holding series of characters\n",
      "\n",
      "tuple:\n",
      "\tIt means immuatable list\n",
      "\n"
     ]
    }
   ],
   "source": [
    "glossary={\n",
    "    \"variable\":\"It means values u can change in a program\",\n",
    "    \"string\":\"It means  data type holding series of characters\",\n",
    "    \"tuple\":'It means immuatable list'\n",
    "}\n",
    "\n",
    "for i in glossary:\n",
    "  print(f\"{i}:\")\n",
    "  print(f\"\\t{glossary[i]}\\n\")\n"
   ]
  },
  {
   "cell_type": "markdown",
   "id": "b300d1d7",
   "metadata": {},
   "source": [
    "### Another way to access dictionary attribute : get()"
   ]
  },
  {
   "cell_type": "code",
   "execution_count": 215,
   "id": "8aab2261",
   "metadata": {},
   "outputs": [
    {
     "name": "stdout",
     "output_type": "stream",
     "text": [
      "No verb defined\n",
      "It means immuatable list\n"
     ]
    }
   ],
   "source": [
    "print (glossary.get('verb','No verb defined'))\n",
    "print (glossary.get('tuple','No verb defined'))"
   ]
  },
  {
   "cell_type": "markdown",
   "id": "70c64697",
   "metadata": {},
   "source": [
    "### Looping Dictionary"
   ]
  },
  {
   "cell_type": "code",
   "execution_count": 219,
   "id": "36d0c84f",
   "metadata": {},
   "outputs": [
    {
     "name": "stdout",
     "output_type": "stream",
     "text": [
      "HKU\n",
      "CUHK\n",
      "HKUST\n",
      "CITYU\n",
      "-----------\n",
      "CITYU\n",
      "CUHK\n",
      "HKU\n",
      "HKUST\n"
     ]
    }
   ],
   "source": [
    "district_dict={\n",
    "    \"HKU\":\"Pok Fu Lam\",\n",
    "    \"CUHK\":\"Sha Tin\",\n",
    "    \"HKUST\":\"Sai Kung\",\n",
    "    \"CITYU\":\"Kowloon Tong\"\n",
    "}\n",
    "\n",
    "for k in district_dict.keys():\n",
    "    print(k)\n",
    "print('-----------')\n",
    "for k in sorted(district_dict.keys()):\n",
    "    print(k)"
   ]
  },
  {
   "cell_type": "code",
   "execution_count": 220,
   "id": "8b993f3d",
   "metadata": {},
   "outputs": [
    {
     "name": "stdout",
     "output_type": "stream",
     "text": [
      "Pok Fu Lam\n",
      "Sha Tin\n",
      "Sai Kung\n",
      "Kowloon Tong\n",
      "-----------\n",
      "Kowloon Tong\n",
      "Pok Fu Lam\n",
      "Sai Kung\n",
      "Sha Tin\n"
     ]
    }
   ],
   "source": [
    "district_dict={\n",
    "    \"HKU\":\"Pok Fu Lam\",\n",
    "    \"CUHK\":\"Sha Tin\",\n",
    "    \"HKUST\":\"Sai Kung\",\n",
    "    \"CITYU\":\"Kowloon Tong\"\n",
    "}\n",
    "\n",
    "for k in district_dict.values():\n",
    "    print(k)\n",
    "print('-----------')\n",
    "for k in sorted(district_dict.values()):\n",
    "    print(k)"
   ]
  },
  {
   "cell_type": "code",
   "execution_count": 222,
   "id": "1c94c625",
   "metadata": {},
   "outputs": [
    {
     "name": "stdout",
     "output_type": "stream",
     "text": [
      " The university - HKU is located  in Pok Fu Lam\n",
      " The university - CUHK is located  in Sha Tin\n",
      " The university - HKUST is located  in Sai Kung\n",
      " The university - CITYU is located  in Kowloon Tong\n",
      "-----------\n",
      " The university - CITYU is located  in Kowloon Tong\n",
      " The university - CUHK is located  in Sha Tin\n",
      " The university - HKU is located  in Pok Fu Lam\n",
      " The university - HKUST is located  in Sai Kung\n"
     ]
    }
   ],
   "source": [
    "district_dict={\n",
    "    \"HKU\":\"Pok Fu Lam\",\n",
    "    \"CUHK\":\"Sha Tin\",\n",
    "    \"HKUST\":\"Sai Kung\",\n",
    "    \"CITYU\":\"Kowloon Tong\"\n",
    "}\n",
    "\n",
    "for k,v in district_dict.items():\n",
    "    print(f\" The university - {k} is located  in {v}\")\n",
    "print('-----------')\n",
    "for k,v in sorted(district_dict.items()): #sorted according to key\n",
    "    print(f\" The university - {k} is located  in {v}\")"
   ]
  },
  {
   "cell_type": "code",
   "execution_count": 223,
   "id": "71683235",
   "metadata": {},
   "outputs": [
    {
     "name": "stdout",
     "output_type": "stream",
     "text": [
      "Thank you for polling\n",
      "Please select your fav language, Jacky\n",
      "Thank you for polling\n",
      "Please select your fav language, Monica\n",
      "Thank you for polling\n",
      "Thank you for polling\n"
     ]
    }
   ],
   "source": [
    "poll_result={\n",
    "    \"Kitty\":\"C\",\n",
    "    \"Jason\":\"Python\",\n",
    "    \"Howard\":\"VB\",\n",
    "    \"Ivan\":\"Java\"\n",
    "}\n",
    "list_require_result=[\"Ivan\",'Jacky',\"Jason\",\"Monica\",\"Kitty\",\"Howard\"]\n",
    "for i in list_require_result:\n",
    "  if i in (poll_result.keys()):\n",
    "    print (\"Thank you for polling\")\n",
    "  else:\n",
    "    print (f\"Please select your fav language, {i}\")"
   ]
  },
  {
   "cell_type": "markdown",
   "id": "5d222d31",
   "metadata": {},
   "source": [
    "### List of dictionary"
   ]
  },
  {
   "cell_type": "code",
   "execution_count": 224,
   "id": "6849b793",
   "metadata": {},
   "outputs": [
    {
     "name": "stdout",
     "output_type": "stream",
     "text": [
      "Last name is : Chan\n",
      "First name is : Ivan\n",
      "city is : HK\n",
      "\n",
      "\n",
      "Last name is : Li\n",
      "First name is : Ken\n",
      "city is : USA\n",
      "\n",
      "\n",
      "Last name is : Ma\n",
      "First name is : David\n",
      "city is : Mongolia\n",
      "\n",
      "\n"
     ]
    }
   ],
   "source": [
    "peopleA={\n",
    "    'lastname':'Chan',\n",
    "    'firstname':'Ivan',\n",
    "    'city':'HK'\n",
    "}\n",
    "peopleB={\n",
    "    'lastname':'Li',\n",
    "    'firstname':'Ken',\n",
    "    'city':'USA'\n",
    "}\n",
    "peopleC={\n",
    "    'lastname':'Ma',\n",
    "    'firstname':'David',\n",
    "    'city':'Mongolia'\n",
    "}\n",
    "people_list=[peopleA,peopleB,peopleC]\n",
    "for p in people_list:\n",
    "  print(f\"Last name is : {p['lastname']}\")\n",
    "  print(f\"First name is : {p['firstname']}\")\n",
    "  print(f\"city is : {p['city']}\")\n",
    "  print('\\n')"
   ]
  },
  {
   "cell_type": "markdown",
   "id": "1ff1ed98",
   "metadata": {},
   "source": [
    "### List as dictionary values"
   ]
  },
  {
   "cell_type": "code",
   "execution_count": 227,
   "id": "59a6e802",
   "metadata": {},
   "outputs": [
    {
     "name": "stdout",
     "output_type": "stream",
     "text": [
      "kitty Like the following places:\n",
      "\t usa\n",
      "\t canada\n",
      "\t egypt\n",
      "\n",
      "\n",
      "anson Like the following places:\n",
      "\t china\n",
      "\n",
      "\n",
      "ivan Like the following places:\n",
      "\t russia\n",
      "\t germany\n",
      "\n",
      "\n"
     ]
    }
   ],
   "source": [
    "fav_places={\n",
    "    \"kitty\":[\"usa\",'canada','egypt'],\n",
    "    \"anson\":['china'],\n",
    "    \"ivan\":['russia','germany']\n",
    "}\n",
    "for k,v in fav_places.items():\n",
    "  print(f\"{k} Like the following places:\")\n",
    "  for country in v:\n",
    "    print(f'\\t {country}')\n",
    "  print(\"\\n\")"
   ]
  },
  {
   "cell_type": "markdown",
   "id": "1ae53776",
   "metadata": {},
   "source": [
    "### Dictionary of dictionary"
   ]
  },
  {
   "cell_type": "code",
   "execution_count": 228,
   "id": "cb13931c",
   "metadata": {},
   "outputs": [
    {
     "name": "stdout",
     "output_type": "stream",
     "text": [
      "HKSAR is located in China\n",
      "Tokyo is located in Japan\n",
      "New York is located in USA\n"
     ]
    }
   ],
   "source": [
    "\n",
    "cities={\n",
    "    \"HKSAR\":{\n",
    "        \"country\":\"China\",\n",
    "        \"fact\":\"a sepcial adminstration region in China\",\n",
    "        \"population\":\"700m\"\n",
    "    },\n",
    "    \"Tokyo\": {\n",
    "        \"country\": \"Japan\",\n",
    "        \"fact\": \"the capital city of Japan\",\n",
    "        \"population\": \"14m\"\n",
    "    },\n",
    "    \"New York\": {\n",
    "        \"country\": \"USA\",\n",
    "        \"fact\": \"known as the Big Apple\",\n",
    "        \"population\": \"8.4m\"\n",
    "    }\n",
    "}\n",
    "for city,cityInfo in cities.items():\n",
    "  print (f\"{city} is located in {cityInfo['country']}\")"
   ]
  },
  {
   "cell_type": "markdown",
   "id": "02c5bbed",
   "metadata": {},
   "source": [
    "## User Input"
   ]
  },
  {
   "cell_type": "code",
   "execution_count": 229,
   "id": "5a335da9",
   "metadata": {},
   "outputs": [
    {
     "name": "stdout",
     "output_type": "stream",
     "text": [
      "your age is 23\n"
     ]
    }
   ],
   "source": [
    "prompt=input('Enter age:  ')\n",
    "print(f'your age is {prompt}')"
   ]
  },
  {
   "cell_type": "code",
   "execution_count": 230,
   "id": "2a23844f",
   "metadata": {},
   "outputs": [
    {
     "name": "stdout",
     "output_type": "stream",
     "text": [
      "Let me see if i can find you a Subaru\n"
     ]
    }
   ],
   "source": [
    "fav_car =  input('What is your favourite car?')\n",
    "print(f'Let me see if i can find you a {fav_car}')"
   ]
  },
  {
   "cell_type": "markdown",
   "id": "7f9e60fe",
   "metadata": {},
   "source": [
    "### Converting user input"
   ]
  },
  {
   "cell_type": "code",
   "execution_count": 231,
   "id": "95a5caae",
   "metadata": {},
   "outputs": [
    {
     "name": "stdout",
     "output_type": "stream",
     "text": [
      "We have table for u\n"
     ]
    }
   ],
   "source": [
    "no_ppl= input ('How many priple are in your dinner group?')\n",
    "no_ppl=int(no_ppl)\n",
    "\n",
    "if no_ppl>8:\n",
    "  print('you have to wait')\n",
    "else:\n",
    "  print('We have table for u')"
   ]
  },
  {
   "cell_type": "code",
   "execution_count": 232,
   "id": "5d2afcb6",
   "metadata": {},
   "outputs": [
    {
     "name": "stdout",
     "output_type": "stream",
     "text": [
      "not multiple of 10\n"
     ]
    }
   ],
   "source": [
    "num= input('enter a number')\n",
    "num=int(num)\n",
    "if num%10==0:\n",
    "  print('multiple of 10')\n",
    "else:\n",
    "  print('not multiple of 10')"
   ]
  },
  {
   "cell_type": "markdown",
   "id": "69e9ecb8",
   "metadata": {},
   "source": [
    "## While Loop"
   ]
  },
  {
   "cell_type": "code",
   "execution_count": 233,
   "id": "f3d62f85",
   "metadata": {},
   "outputs": [
    {
     "name": "stdout",
     "output_type": "stream",
     "text": [
      "adding mushroom\n",
      "adding cheese\n",
      "adding ham\n"
     ]
    }
   ],
   "source": [
    "topping=''\n",
    "while topping != 'quit':\n",
    "  topping= input('What topping u would like to add?')\n",
    "  if(topping=='quit'):\n",
    "    break\n",
    "  else:\n",
    "    print(f'adding {topping}')"
   ]
  },
  {
   "cell_type": "code",
   "execution_count": 235,
   "id": "f55eb347",
   "metadata": {},
   "outputs": [
    {
     "name": "stdout",
     "output_type": "stream",
     "text": [
      "$15\n",
      "free\n",
      "$15\n",
      "$10\n"
     ]
    }
   ],
   "source": [
    "while True:\n",
    "  age= input('What is your age')\n",
    "  if(age=='quit'):\n",
    "    break\n",
    "  age=int(age)\n",
    "  if(age<3):\n",
    "    print('free')\n",
    "  elif age >=3 and age <12:\n",
    "    print('$10')\n",
    "  elif age>=12:\n",
    "    print('$15')\n"
   ]
  },
  {
   "cell_type": "markdown",
   "id": "cf08301f",
   "metadata": {},
   "source": [
    "### While a List have item..."
   ]
  },
  {
   "cell_type": "code",
   "execution_count": 237,
   "id": "d7f1da03",
   "metadata": {},
   "outputs": [
    {
     "name": "stdout",
     "output_type": "stream",
     "text": [
      "We have made u a chicken sandwich\n",
      "We have made u a apple sandwich\n",
      "We have made u a cheese sandwich\n",
      "We have made u a ham sandwich\n"
     ]
    }
   ],
   "source": [
    "sandwiches_to_do=[\"ham\",'cheese','apple','chicken']\n",
    "sandwiches_finished=[]\n",
    "while sandwiches_to_do:\n",
    "  finished=sandwiches_to_do.pop()\n",
    "  sandwiches_finished.append(finished)\n",
    "for f in sandwiches_finished:\n",
    "  print(f'We have made u a {f} sandwich')"
   ]
  },
  {
   "cell_type": "code",
   "execution_count": 238,
   "id": "c571a592",
   "metadata": {},
   "outputs": [
    {
     "name": "stdout",
     "output_type": "stream",
     "text": [
      "we have run out of pastrami\n",
      "We have made u a chicken sandwich\n",
      "We have made u a apple sandwich\n",
      "We have made u a cheese sandwich\n",
      "We have made u a ham sandwich\n"
     ]
    }
   ],
   "source": [
    "sandwiches_to_do=[\"ham\",'pastrami','cheese','apple','pastrami','chicken','pastrami']\n",
    "sandwiches_finished=[]\n",
    "print('we have run out of pastrami')\n",
    "while 'pastrami' in  sandwiches_to_do:\n",
    "  sandwiches_to_do.remove('pastrami')\n",
    "while sandwiches_to_do:\n",
    "  finished=sandwiches_to_do.pop()\n",
    "  sandwiches_finished.append(finished)\n",
    "for f in sandwiches_finished:\n",
    "  print(f'We have made u a {f} sandwich')"
   ]
  },
  {
   "cell_type": "markdown",
   "id": "70cd237e",
   "metadata": {},
   "source": [
    "### Storing List of Dict using while loop"
   ]
  },
  {
   "cell_type": "code",
   "execution_count": 239,
   "id": "20eb4d31",
   "metadata": {},
   "outputs": [
    {
     "name": "stdout",
     "output_type": "stream",
     "text": [
      "Jack want to go USA\n",
      "Peter want to go HK\n",
      "Ken want to go Macau\n"
     ]
    }
   ],
   "source": [
    "poll_result=[]\n",
    "\n",
    "ans=''\n",
    "while  ans!= 'N':\n",
    "  res={}\n",
    "  name= input(\"what is ur name\")\n",
    "\n",
    "  place=input('where u want to go')\n",
    "\n",
    "  res[name]=place\n",
    "\n",
    "  poll_result.append(res)\n",
    "\n",
    "  ans= input('Continue poll? Y/N')\n",
    "\n",
    "for res in poll_result:\n",
    "  for k,v in res.items():\n",
    "    print(f\"{k} want to go {v}\")\n"
   ]
  },
  {
   "cell_type": "markdown",
   "id": "0e6dcd8d",
   "metadata": {},
   "source": [
    "## Function"
   ]
  },
  {
   "cell_type": "markdown",
   "id": "eb762427",
   "metadata": {},
   "source": [
    "### Function with no param"
   ]
  },
  {
   "cell_type": "code",
   "execution_count": 1,
   "id": "2c888c48",
   "metadata": {},
   "outputs": [
    {
     "name": "stdout",
     "output_type": "stream",
     "text": [
      "I am learning how to write function in py\n"
     ]
    }
   ],
   "source": [
    "def displayDoing():\n",
    "  print('I am learning how to write function in py')\n",
    "displayDoing()"
   ]
  },
  {
   "cell_type": "markdown",
   "id": "3e29045f",
   "metadata": {},
   "source": [
    "### Function with 1 param"
   ]
  },
  {
   "cell_type": "code",
   "execution_count": 2,
   "id": "b3676bee",
   "metadata": {},
   "outputs": [
    {
     "name": "stdout",
     "output_type": "stream",
     "text": [
      "I like reading Frozen\n"
     ]
    }
   ],
   "source": [
    "def displayFavBook(title):\n",
    "  print(f\"I like reading {title}\")\n",
    "\n",
    "displayFavBook(\"Frozen\")"
   ]
  },
  {
   "cell_type": "markdown",
   "id": "4fc696e6",
   "metadata": {},
   "source": [
    "### Calling Function with params name "
   ]
  },
  {
   "cell_type": "code",
   "execution_count": 3,
   "id": "a536453f",
   "metadata": {},
   "outputs": [
    {
     "name": "stdout",
     "output_type": "stream",
     "text": [
      "Printing Tee with M Size and \"I love HK\" asMessage\n",
      "Printing Tee with L Size and \"I eat pizza\" asMessage\n"
     ]
    }
   ],
   "source": [
    "def printTee(size,message):\n",
    "  print(f'Printing Tee with {size} Size and \"{message}\" asMessage')\n",
    "printTee('M',\"I love HK\")\n",
    "printTee(message=\"I eat pizza\",size=\"L\")"
   ]
  },
  {
   "cell_type": "markdown",
   "id": "1b7e55b3",
   "metadata": {},
   "source": [
    "### Function with Default param value"
   ]
  },
  {
   "cell_type": "code",
   "execution_count": 4,
   "id": "46a66140",
   "metadata": {},
   "outputs": [
    {
     "name": "stdout",
     "output_type": "stream",
     "text": [
      "Printing Tee with M Size and \"I love HK\" asMessage\n",
      "Printing Tee with S Size and \"I eat pizza\" asMessage\n"
     ]
    }
   ],
   "source": [
    "def printTee(message,size=\"S\"): #params with default must be placed after those without default value\n",
    "  print(f'Printing Tee with {size} Size and \"{message}\" asMessage')\n",
    "printTee(\"I love HK\",'M')\n",
    "printTee(message=\"I eat pizza\")"
   ]
  },
  {
   "cell_type": "markdown",
   "id": "865d97b8",
   "metadata": {},
   "source": [
    "### Building Dictionary through function"
   ]
  },
  {
   "cell_type": "code",
   "execution_count": 5,
   "id": "e5e0f923",
   "metadata": {},
   "outputs": [
    {
     "name": "stdout",
     "output_type": "stream",
     "text": [
      "{'title': 'Some Pop', 'artist': 'Eunji'}\n",
      "{'title': 'Some Can', 'artist': 'ABCJason', 'num_songs': 3}\n"
     ]
    }
   ],
   "source": [
    "def buildAlbum(title,artist,num_songs=None):\n",
    "  album={}\n",
    "  album['title']=title\n",
    "  album['artist']=artist\n",
    "\n",
    "  if (num_songs):\n",
    "    album['num_songs']=num_songs\n",
    "\n",
    "\n",
    "  return album\n",
    "\n",
    "print(buildAlbum(\"Some Pop\",\"Eunji\"))\n",
    "\n",
    "print(buildAlbum(\"Some Can\",\"ABCJason\",3))"
   ]
  },
  {
   "cell_type": "code",
   "execution_count": 6,
   "id": "84084e75",
   "metadata": {},
   "outputs": [
    {
     "name": "stdout",
     "output_type": "stream",
     "text": [
      "{'title': 'Nonono', 'artist': 'Eunji'}\n",
      "{'title': 'Pink venom', 'artist': 'Blackpink'}\n"
     ]
    }
   ],
   "source": [
    "while True:\n",
    "  artistIn= input('What is artist name?')\n",
    "  if artistIn=='q':\n",
    "    break;\n",
    "  titleIn= input('What is Title of album')\n",
    "  if titleIn=='q':\n",
    "    break\n",
    "  print(buildAlbum(artist=artistIn,title=titleIn))"
   ]
  },
  {
   "cell_type": "markdown",
   "id": "0e1651ff",
   "metadata": {},
   "source": [
    "### supplying list as parameter"
   ]
  },
  {
   "cell_type": "code",
   "execution_count": 7,
   "id": "7f15f632",
   "metadata": {},
   "outputs": [
    {
     "name": "stdout",
     "output_type": "stream",
     "text": [
      "hello hk\n",
      "My name is blue\n",
      "I love red\n"
     ]
    }
   ],
   "source": [
    "li_message = ['hello hk','My name is blue','I love red']\n",
    "def printmessage(messages):\n",
    "  for m in messages:\n",
    "    print(m)\n",
    "printmessage(li_message)"
   ]
  },
  {
   "cell_type": "code",
   "execution_count": 11,
   "id": "3106c4a6",
   "metadata": {},
   "outputs": [
    {
     "name": "stdout",
     "output_type": "stream",
     "text": [
      "I love red\n",
      "My name is blue\n",
      "hello hk\n",
      "[]\n",
      "['I love red', 'My name is blue', 'hello hk']\n"
     ]
    }
   ],
   "source": [
    "li_original = ['hello hk','My name is blue','I love red']\n",
    "li_printed=[]\n",
    "def printmessage(messages):\n",
    "  while messages:\n",
    "    msg=messages.pop() #modifying original list\n",
    "    li_printed.append(msg)\n",
    "    print(msg)\n",
    "\n",
    "printmessage(li_original)\n",
    "\n",
    "\n",
    "print(li_original) \n",
    "print(li_printed) "
   ]
  },
  {
   "cell_type": "code",
   "execution_count": 12,
   "id": "baaf90fc",
   "metadata": {},
   "outputs": [
    {
     "name": "stdout",
     "output_type": "stream",
     "text": [
      "I love red\n",
      "My name is blue\n",
      "hello hk\n",
      "['hello hk', 'My name is blue', 'I love red']\n",
      "['I love red', 'My name is blue', 'hello hk']\n"
     ]
    }
   ],
   "source": [
    "li_message = ['hello hk','My name is blue','I love red']\n",
    "li_printed=[]\n",
    "def printmessage(messages):\n",
    "  while messages:\n",
    "    msg=messages.pop()\n",
    "    li_printed.append(msg)\n",
    "    print(msg)\n",
    "\n",
    "printmessage(li_message[:]) #pass by value \n",
    "\n",
    "\n",
    "print(li_message)\n",
    "print(li_printed)"
   ]
  },
  {
   "cell_type": "markdown",
   "id": "131e4d49",
   "metadata": {},
   "source": [
    "### Arbitrary no. of args"
   ]
  },
  {
   "cell_type": "code",
   "execution_count": 13,
   "id": "31be80d5",
   "metadata": {},
   "outputs": [
    {
     "name": "stdout",
     "output_type": "stream",
     "text": [
      "making sandwich with:\n",
      "- ham\n",
      "making sandwich with:\n",
      "- ham\n",
      "- cheese\n",
      "- pineapple\n"
     ]
    }
   ],
   "source": [
    "# *args - build tuple when passed\n",
    "def make_sandwich(*ingredient):\n",
    "  print('making sandwich with:')\n",
    "  for i in ingredient:\n",
    "    print(f\"- {i}\")\n",
    "make_sandwich('ham')\n",
    "make_sandwich('ham','cheese','pineapple')"
   ]
  },
  {
   "cell_type": "code",
   "execution_count": 14,
   "id": "7cfd1517",
   "metadata": {},
   "outputs": [
    {
     "name": "stdout",
     "output_type": "stream",
     "text": [
      "{'first_name': 'tai man', 'last_name': 'chan'}\n",
      "{'hobbies': 'cycling', 'uni': 'standford', 'first_name': 'tai man', 'last_name': 'chan'}\n"
     ]
    }
   ],
   "source": [
    "# **kwargs - build  dictionary when passed\n",
    "def build_person(first_name,last_name,**kwargs):\n",
    "  kwargs['first_name']=first_name\n",
    "  kwargs['last_name']=last_name\n",
    "  return kwargs\n",
    "\n",
    "print(build_person('tai man','chan'))\n",
    "print(build_person('tai man','chan',hobbies='cycling',uni='standford'))"
   ]
  },
  {
   "cell_type": "code",
   "execution_count": 15,
   "id": "bb9e93c0",
   "metadata": {},
   "outputs": [
    {
     "data": {
      "text/plain": [
       "{'color': 'black', 'tow_package': True, 'brand': 'subaru', 'model': 'outback'}"
      ]
     },
     "execution_count": 15,
     "metadata": {},
     "output_type": "execute_result"
    }
   ],
   "source": [
    "def build_car(brand,model,**kwargs):\n",
    "  kwargs['brand']=brand\n",
    "  kwargs['model']=model\n",
    "  return kwargs\n",
    "build_car('subaru','outback',color='black',tow_package=True)"
   ]
  },
  {
   "cell_type": "markdown",
   "id": "1f646333",
   "metadata": {},
   "source": [
    "## Importing Library"
   ]
  },
  {
   "cell_type": "markdown",
   "id": "655000f0",
   "metadata": {},
   "source": [
    "### import whole module (eg.pizza.py)"
   ]
  },
  {
   "cell_type": "code",
   "execution_count": null,
   "id": "1367741a",
   "metadata": {},
   "outputs": [],
   "source": [
    "# import pizza as p\n",
    "# Calling function using p.makepizza() "
   ]
  },
  {
   "cell_type": "markdown",
   "id": "65bb446c",
   "metadata": {},
   "source": [
    "### import particular function"
   ]
  },
  {
   "cell_type": "code",
   "execution_count": null,
   "id": "e8f7bc03",
   "metadata": {},
   "outputs": [],
   "source": [
    "# from pizza import make_pizza as mp\n",
    "# calling function using make_pizza()"
   ]
  },
  {
   "cell_type": "markdown",
   "id": "1e0f785d",
   "metadata": {},
   "source": [
    "## Class "
   ]
  },
  {
   "cell_type": "code",
   "execution_count": 19,
   "id": "79792f71",
   "metadata": {},
   "outputs": [
    {
     "name": "stdout",
     "output_type": "stream",
     "text": [
      "Cafe Ce coral\n",
      "Fast Food\n",
      "Cafe Ce coral is now opened\n",
      "This is a Fast Food restaurant, namely Cafe Ce coral\n",
      "Tao Heung\n",
      "Chinese Restaurant\n",
      "Tao Heung is now opened\n",
      "This is a Chinese Restaurant restaurant, namely Tao Heung\n",
      "---------\n",
      "///////////////\n",
      "This is a user :\n",
      " Name : Chan Tsz Fujng\n",
      " Age : 24\n",
      " Sex : M\n",
      " Hobbies : Skating\n",
      "////////////////\n",
      "Hello! Tsz Fujng Chan\n"
     ]
    }
   ],
   "source": [
    "from Restaurant import Restaurant\n",
    "from User  import User,Admin\n",
    "from IceCreamStand import IceCreamStand\n",
    "\n",
    "my_restaurant = Restaurant('Cafe Ce coral','Fast Food')\n",
    "print (my_restaurant.name)\n",
    "print(my_restaurant.cuisine_type)\n",
    "my_restaurant.open()\n",
    "my_restaurant.describe()\n",
    "\n",
    "\n",
    "my_restaurant = Restaurant('Tao Heung','Chinese Restaurant')\n",
    "print (my_restaurant.name)\n",
    "print(my_restaurant.cuisine_type)\n",
    "my_restaurant.open()\n",
    "my_restaurant.describe()\n",
    "\n",
    "print('---------')\n",
    "\n",
    "userA= User('Tsz Fujng','Chan',24,'M','Skating')\n",
    "userA.describe_user()\n",
    "userA.greet_user()\n"
   ]
  },
  {
   "cell_type": "code",
   "execution_count": 20,
   "id": "f1f23699",
   "metadata": {},
   "outputs": [
    {
     "name": "stdout",
     "output_type": "stream",
     "text": [
      "0\n",
      "313\n",
      "203\n",
      "303\n",
      "---------\n",
      "0\n",
      "1\n",
      "2\n",
      "3\n",
      "0\n"
     ]
    }
   ],
   "source": [
    "print(my_restaurant.num_servered)\n",
    "my_restaurant.num_servered=313 #direct set\n",
    "print(my_restaurant.num_servered)\n",
    "my_restaurant.set_num_served(203)#setter\n",
    "print(my_restaurant.num_servered)\n",
    "my_restaurant.increment_num_served_one_day()#increment after one day\n",
    "print(my_restaurant.num_servered)\n",
    "\n",
    "print('---------')\n",
    "\n",
    "print(userA.login_attempts)\n",
    "userA.increment_login_attempts()\n",
    "print(userA.login_attempts)\n",
    "userA.increment_login_attempts()\n",
    "print(userA.login_attempts)\n",
    "userA.increment_login_attempts()\n",
    "print(userA.login_attempts)\n",
    "userA.reset_attempts()\n",
    "print(userA.login_attempts)"
   ]
  },
  {
   "cell_type": "markdown",
   "id": "b1eac96f",
   "metadata": {},
   "source": [
    "### Class Inheritance"
   ]
  },
  {
   "cell_type": "code",
   "execution_count": 21,
   "id": "82c7cf97",
   "metadata": {},
   "outputs": [
    {
     "name": "stdout",
     "output_type": "stream",
     "text": [
      "ABC Icecream is now opened\n",
      "This is a Dessert restaurant, namely ABC Icecream\n",
      "orange\n",
      "---------\n",
      "///////////////\n",
      "This is a user :\n",
      " Name : Chan Ming\n",
      " Age : 12\n",
      " Sex : M\n",
      " Hobbies : cycling\n",
      "////////////////\n",
      "['add post', 'ban user']\n",
      "---------\n",
      "///////////////\n",
      "This is a user :\n",
      " Name : Chan Hui\n",
      " Age : 12\n",
      " Sex : M\n",
      " Hobbies : cycling\n",
      "////////////////\n",
      "['add post', 'ban user']\n",
      "---------\n"
     ]
    }
   ],
   "source": [
    "my_restaurant_ice_cream = IceCreamStand('ABC Icecream','Dessert')\n",
    "my_restaurant_ice_cream.open()\n",
    "my_restaurant_ice_cream.describe()\n",
    "my_restaurant_ice_cream.print_flavours()\n",
    "print('---------')\n",
    "adminUser= Admin('Ming','Chan',12,'M','cycling')\n",
    "adminUser.describe_user()\n",
    "adminUser.print_priv()\n",
    "\n",
    "print('---------')\n",
    "adminUser= Admin('Hui','Chan',12,'M','cycling')\n",
    "adminUser.describe_user()\n",
    "adminUser.print_priv()\n",
    "print('---------')"
   ]
  },
  {
   "cell_type": "markdown",
   "id": "16603998",
   "metadata": {},
   "source": [
    "## Files Handling"
   ]
  },
  {
   "cell_type": "markdown",
   "id": "bbd3e40f",
   "metadata": {},
   "source": [
    "### Reading File"
   ]
  },
  {
   "cell_type": "markdown",
   "id": "ed121d4b",
   "metadata": {},
   "source": [
    "#### via .read()"
   ]
  },
  {
   "cell_type": "code",
   "execution_count": 23,
   "id": "360b8e58",
   "metadata": {},
   "outputs": [
    {
     "name": "stdout",
     "output_type": "stream",
     "text": [
      "\n",
      "\t--Reading File all at once read() \n",
      "In python, you can declare variables\n",
      "In python, you can use loop\n",
      "In python, you can use conditionals\n",
      "In python, you can declare class\n",
      "In python, you can ask for user input \n",
      "In python, you can use inheritance for class\n",
      "In python, you can use dictionary to model real world obj\n",
      "In python,  you can use list to represent set of items\n"
     ]
    }
   ],
   "source": [
    "print('\\n\\t--Reading File all at once read() ')\n",
    "with open('learning_python.txt') as file_object:\n",
    "    content= file_object.read()\n",
    "    print(content)"
   ]
  },
  {
   "cell_type": "markdown",
   "id": "e807fc63",
   "metadata": {},
   "source": [
    "#### via. readlines() - >convert to list of lines"
   ]
  },
  {
   "cell_type": "code",
   "execution_count": 24,
   "id": "6a5086f0",
   "metadata": {},
   "outputs": [
    {
     "name": "stdout",
     "output_type": "stream",
     "text": [
      "\n",
      "\t--Reading File storing lines as list & work outside the block\n",
      "In python, you can declare variables\n",
      "In python, you can use loop\n",
      "In python, you can use conditionals\n",
      "In python, you can declare class\n",
      "In python, you can ask for user input\n",
      "In python, you can use inheritance for class\n",
      "In python, you can use dictionary to model real world obj\n",
      "In python,  you can use list to represent set of items\n"
     ]
    }
   ],
   "source": [
    "print('\\n\\t--Reading File storing lines as list & work outside the block')\n",
    "with open('learning_python.txt') as file_object:\n",
    "    content_li = file_object.readlines()\n",
    "\n",
    "for line in content_li:\n",
    "    print(line.rstrip())"
   ]
  },
  {
   "cell_type": "markdown",
   "id": "4ecad096",
   "metadata": {},
   "source": [
    "#### via looping file_object"
   ]
  },
  {
   "cell_type": "code",
   "execution_count": 25,
   "id": "00cf3ee3",
   "metadata": {},
   "outputs": [
    {
     "name": "stdout",
     "output_type": "stream",
     "text": [
      "\n",
      "\t--Reading File looping file obj\n",
      "In python, you can declare variables\n",
      "In python, you can use loop\n",
      "In python, you can use conditionals\n",
      "In python, you can declare class\n",
      "In python, you can ask for user input \n",
      "In python, you can use inheritance for class\n",
      "In python, you can use dictionary to model real world obj\n",
      "In python,  you can use list to represent set of items\n"
     ]
    }
   ],
   "source": [
    "print('\\n\\t--Reading File looping file obj')\n",
    "content=''\n",
    "with open('learning_python.txt') as file_object:\n",
    "    for i in file_object:\n",
    "        content += i\n",
    "    print(content)\n"
   ]
  },
  {
   "cell_type": "markdown",
   "id": "7691988e",
   "metadata": {},
   "source": [
    "### Writing Files"
   ]
  },
  {
   "cell_type": "code",
   "execution_count": 29,
   "id": "d3df6e76",
   "metadata": {},
   "outputs": [],
   "source": [
    "for i in range(3):\n",
    "    name = input(\"What is the name of the guest? \")\n",
    "\n",
    "    with open('guests.txt','a') as file_obj: #'w' will rewrite whole file \n",
    "        file_obj.write(f'{name}\\n')"
   ]
  },
  {
   "cell_type": "code",
   "execution_count": null,
   "id": "b983e114",
   "metadata": {},
   "outputs": [],
   "source": [
    "while True:\n",
    "    inStr= input('why u like programming')\n",
    "    if inStr == 'q':\n",
    "        break\n",
    "    else:\n",
    "        with open ('reasons_like_programming.txt','a') as file_obj:\n",
    "            file_obj.write(f\"{inStr}\\n\")\n"
   ]
  },
  {
   "cell_type": "code",
   "execution_count": null,
   "id": "99aa38cc",
   "metadata": {},
   "outputs": [],
   "source": [
    "## Exception Handling"
   ]
  },
  {
   "cell_type": "code",
   "execution_count": 30,
   "id": "b1389757",
   "metadata": {},
   "outputs": [
    {
     "name": "stdout",
     "output_type": "stream",
     "text": [
      "Two inputs need to be number\n"
     ]
    }
   ],
   "source": [
    "a= input(\"Enter a number\")\n",
    "b= input ('Enter another number')\n",
    "try:\n",
    "    c= int(a)+int(b)\n",
    "except ValueError:\n",
    "    print('Two inputs need to be number')\n",
    "else:\n",
    "    print(f\"The sum is {c}\")"
   ]
  },
  {
   "cell_type": "code",
   "execution_count": 31,
   "id": "379bfa23",
   "metadata": {},
   "outputs": [
    {
     "name": "stdout",
     "output_type": "stream",
     "text": [
      "input must be number\n",
      "input must be number\n",
      "input must be number\n",
      "10\n"
     ]
    }
   ],
   "source": [
    "sum=0\n",
    "while True:  \n",
    "    try:\n",
    "        a= input(\"Enter a number (use q to exit)\")\n",
    "        if a =='q':\n",
    "            break\n",
    "        c=int(a)\n",
    "    except ValueError:\n",
    "        print('input must be number')\n",
    "    else:\n",
    "        sum+=c\n",
    "print(sum)"
   ]
  },
  {
   "cell_type": "code",
   "execution_count": 32,
   "id": "fdaf1531",
   "metadata": {},
   "outputs": [],
   "source": [
    "try:\n",
    "    with open('cats.txt') as file_obj:\n",
    "        content1=file_obj.read()\n",
    "    with open('dogs.txt') as file_obj:\n",
    "        content2=file_obj.read()\n",
    "except FileNotFoundError:\n",
    "    #print('FileNotFoundError; cats and dogs need to provide')\n",
    "    pass #silently except\n",
    "else: \n",
    "    print(content1)\n",
    "    print(content2) "
   ]
  },
  {
   "cell_type": "markdown",
   "id": "16bb4350",
   "metadata": {},
   "source": [
    "## Stroing result in json with dump('',obj) and load(obj) "
   ]
  },
  {
   "cell_type": "code",
   "execution_count": 33,
   "id": "44dff8aa",
   "metadata": {},
   "outputs": [
    {
     "name": "stdout",
     "output_type": "stream",
     "text": [
      "we got u 4\n"
     ]
    }
   ],
   "source": [
    "import json\n",
    "\n",
    "\n",
    "try:\n",
    "    with open('fav_num.json') as file_object:\n",
    "        fav_num = json.load(file_object) \n",
    "except FileNotFoundError:\n",
    "    print('No record')\n",
    "    fav_num = input('what is your fav num?')\n",
    "    with open('fav_num.json','w') as file_object:\n",
    "        json.dump(fav_num,file_object)\n",
    "    print('record stored successfully')\n",
    "else:\n",
    "    print(f'we got u {fav_num}')"
   ]
  }
 ],
 "metadata": {
  "kernelspec": {
   "display_name": "base",
   "language": "python",
   "name": "python3"
  },
  "language_info": {
   "codemirror_mode": {
    "name": "ipython",
    "version": 3
   },
   "file_extension": ".py",
   "mimetype": "text/x-python",
   "name": "python",
   "nbconvert_exporter": "python",
   "pygments_lexer": "ipython3",
   "version": "3.13.5"
  }
 },
 "nbformat": 4,
 "nbformat_minor": 5
}
