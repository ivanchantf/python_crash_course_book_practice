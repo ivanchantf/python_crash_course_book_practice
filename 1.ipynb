{
 "cells": [
  {
   "cell_type": "markdown",
   "id": "0fc318be",
   "metadata": {},
   "source": [
    "String Manipulation"
   ]
  },
  {
   "cell_type": "code",
   "execution_count": null,
   "id": "c8b11170-f755-4a85-8fc2-616b7d80340c",
   "metadata": {},
   "outputs": [
    {
     "name": "stdout",
     "output_type": "stream",
     "text": [
      "Hello World\n"
     ]
    }
   ],
   "source": [
    "a = \"hello world\".title()\n",
    "print(a)"
   ]
  },
  {
   "cell_type": "code",
   "execution_count": 2,
   "id": "f9f3a695-21e9-4ecc-9e78-aaf3f6d6f346",
   "metadata": {},
   "outputs": [
    {
     "name": "stdout",
     "output_type": "stream",
     "text": [
      "hi\n",
      "\n"
     ]
    }
   ],
   "source": [
    "b=\" hi \".strip()+\"\\n\"\n",
    "print(b)\n"
   ]
  },
  {
   "cell_type": "markdown",
   "id": "3b81414b-d5f1-4bac-b004-503acf9d00d5",
   "metadata": {},
   "source": [
    "2.3 Personal Message"
   ]
  },
  {
   "cell_type": "code",
   "execution_count": 3,
   "id": "b426b688-983f-4842-851c-1ce7ddc3c7dc",
   "metadata": {},
   "outputs": [
    {
     "name": "stdout",
     "output_type": "stream",
     "text": [
      "Hello Chan Tsz Fung, would u like to learn py today ? \n"
     ]
    }
   ],
   "source": [
    "a = \"Chan Tsz Fung\"\n",
    "print(f\"Hello {a}, would u like to learn py today ? \")"
   ]
  },
  {
   "cell_type": "markdown",
   "id": "ae8450bb-fe6d-4bd1-bb7e-b23d3e0bebbb",
   "metadata": {},
   "source": [
    "2.4 Name Cases"
   ]
  },
  {
   "cell_type": "code",
   "execution_count": 4,
   "id": "fae31afb-4946-45a2-8c31-a10c948c3150",
   "metadata": {},
   "outputs": [
    {
     "name": "stdout",
     "output_type": "stream",
     "text": [
      "IVAN CHAN\n",
      "ivan chan\n",
      "Ivan Chan\n"
     ]
    }
   ],
   "source": [
    "name = \"ivan CHAN\"\n",
    "print(name.upper())\n",
    "print(name.lower())\n",
    "print(name.title())\n"
   ]
  },
  {
   "cell_type": "markdown",
   "id": "1982a8e0-2da0-4a99-87f2-0bcf6a0e7392",
   "metadata": {},
   "source": [
    "2.5 Famous Quote 2.6 Famous Quote 2"
   ]
  },
  {
   "cell_type": "code",
   "execution_count": 5,
   "id": "335f64ce-6c82-437d-8009-a247fee6977e",
   "metadata": {},
   "outputs": [
    {
     "name": "stdout",
     "output_type": "stream",
     "text": [
      "Albert Einstein once said, \"A person who never made a mistake never tried anything new\"\n"
     ]
    }
   ],
   "source": [
    "person = \"Albert Einstein\"\n",
    "quote = \"A person who never made a mistake never tried anything new\"\n",
    "print(f'{person.title()} once said, \"{quote}\"')"
   ]
  },
  {
   "cell_type": "markdown",
   "id": "8fdbda0c-61bd-4242-b207-9d0d1b391af0",
   "metadata": {},
   "source": [
    "2.7 Stripping Names"
   ]
  },
  {
   "cell_type": "code",
   "execution_count": 6,
   "id": "ed897049-b9fe-421a-ad73-1fc7bf5e32c6",
   "metadata": {},
   "outputs": [
    {
     "name": "stdout",
     "output_type": "stream",
     "text": [
      " Chan Tsz\tFung \n",
      "\n",
      "Chan Tsz\tFung\n",
      "Chan Tsz\tFung \n",
      "\n",
      " Chan Tsz\tFung\n"
     ]
    }
   ],
   "source": [
    "name = \" Chan Tsz\\tFung \\n\"\n",
    "print(name)\n",
    "print(name.strip())\n",
    "print(name.lstrip())\n",
    "print(name.rstrip())"
   ]
  },
  {
   "cell_type": "code",
   "execution_count": 7,
   "id": "ed8195cc-8d04-43b1-a4d5-7d3f57e07098",
   "metadata": {},
   "outputs": [
    {
     "data": {
      "text/plain": [
       "0.30000000000000004"
      ]
     },
     "execution_count": 7,
     "metadata": {},
     "output_type": "execute_result"
    }
   ],
   "source": [
    "0.2+0.1"
   ]
  },
  {
   "cell_type": "code",
   "execution_count": 8,
   "id": "4071dd16-15f9-4277-b587-38e6c0e7f0ad",
   "metadata": {},
   "outputs": [
    {
     "data": {
      "text/plain": [
       "0.30000000000000004"
      ]
     },
     "execution_count": 8,
     "metadata": {},
     "output_type": "execute_result"
    }
   ],
   "source": [
    "3*0.1"
   ]
  },
  {
   "cell_type": "markdown",
   "id": "b97aff5c-e828-4316-95dc-4515cc5d129d",
   "metadata": {},
   "source": [
    "2.8 Number Eight\n"
   ]
  },
  {
   "cell_type": "code",
   "execution_count": 9,
   "id": "a3c410b4-1b64-45db-94b0-0c10ac56c78d",
   "metadata": {},
   "outputs": [
    {
     "name": "stdout",
     "output_type": "stream",
     "text": [
      "8\n",
      "8\n",
      "8\n",
      "8.5\n"
     ]
    }
   ],
   "source": [
    "print(2+6)\n",
    "print(10-2)\n",
    "print(2*4)\n",
    "print(17/2)"
   ]
  },
  {
   "cell_type": "code",
   "execution_count": 10,
   "id": "a3279499-0d51-4da9-a949-b787ec37b4b9",
   "metadata": {},
   "outputs": [
    {
     "name": "stdout",
     "output_type": "stream",
     "text": [
      "My favourite number is 1\n"
     ]
    }
   ],
   "source": [
    "FAV_NUM = 1\n",
    "print (f\"My favourite number is {FAV_NUM}\") #this function print my fav number\n"
   ]
  },
  {
   "cell_type": "code",
   "execution_count": 11,
   "id": "1d030287-740a-440b-85a7-fe2217ca16a4",
   "metadata": {},
   "outputs": [
    {
     "name": "stdout",
     "output_type": "stream",
     "text": [
      "The Zen of Python, by Tim Peters\n",
      "\n",
      "Beautiful is better than ugly.\n",
      "Explicit is better than implicit.\n",
      "Simple is better than complex.\n",
      "Complex is better than complicated.\n",
      "Flat is better than nested.\n",
      "Sparse is better than dense.\n",
      "Readability counts.\n",
      "Special cases aren't special enough to break the rules.\n",
      "Although practicality beats purity.\n",
      "Errors should never pass silently.\n",
      "Unless explicitly silenced.\n",
      "In the face of ambiguity, refuse the temptation to guess.\n",
      "There should be one-- and preferably only one --obvious way to do it.\n",
      "Although that way may not be obvious at first unless you're Dutch.\n",
      "Now is better than never.\n",
      "Although never is often better than *right* now.\n",
      "If the implementation is hard to explain, it's a bad idea.\n",
      "If the implementation is easy to explain, it may be a good idea.\n",
      "Namespaces are one honking great idea -- let's do more of those!\n"
     ]
    }
   ],
   "source": [
    "import this\n"
   ]
  },
  {
   "cell_type": "code",
   "execution_count": 12,
   "id": "ce009ca4-ee4d-4bd9-b56e-4cf875d00f7e",
   "metadata": {},
   "outputs": [
    {
     "name": "stdout",
     "output_type": "stream",
     "text": [
      "peter\n",
      "john\n",
      "mary\n"
     ]
    }
   ],
   "source": [
    "#3.1 Names\n",
    "names = ['peter','john','mary']\n",
    "print(names[0])\n",
    "print(names[1])\n",
    "print(names[2])\n"
   ]
  },
  {
   "cell_type": "code",
   "execution_count": 13,
   "id": "a4a38bc0-423b-4d8a-a442-9939c37de76b",
   "metadata": {},
   "outputs": [
    {
     "name": "stdout",
     "output_type": "stream",
     "text": [
      "peter , welcome to the course\n",
      "john , welcome to the course\n",
      "mary , welcome to the course\n"
     ]
    }
   ],
   "source": [
    "print(names[0] + \" , welcome to the course\")\n",
    "print(names[1]+ \" , welcome to the course\")\n",
    "print(names[2]+ \" , welcome to the course\")"
   ]
  },
  {
   "cell_type": "code",
   "execution_count": null,
   "id": "b9c5d514-75fa-4077-a02b-1509e6d62117",
   "metadata": {},
   "outputs": [
    {
     "name": "stdout",
     "output_type": "stream",
     "text": [
      "['b', 'a', 'c']\n"
     ]
    }
   ],
   "source": [
    "cars= [ 'a','b','a','c']\n",
    "del cars[0] #remove through idx\n",
    "print(cars)"
   ]
  },
  {
   "cell_type": "code",
   "execution_count": 16,
   "id": "93970adb-6b05-4b36-a1f7-1e60bf45d134",
   "metadata": {},
   "outputs": [
    {
     "name": "stdout",
     "output_type": "stream",
     "text": [
      "Peter, would u come to dinner?\n",
      "John, would u come to dinner?\n",
      "Mary, would u come to dinner?\n",
      "Jason, would u come to dinner?\n"
     ]
    }
   ],
   "source": [
    "names= ['Peter','John','Mary','Jason']\n",
    "print(f\"{names[0]}, would u come to dinner?\")\n",
    "print(f\"{names[1]}, would u come to dinner?\")\n",
    "print(f\"{names[2]}, would u come to dinner?\")\n",
    "print(f\"{names[3]}, would u come to dinner?\")"
   ]
  },
  {
   "cell_type": "code",
   "execution_count": 17,
   "id": "4b2e82c3-a527-4510-b11e-8a22441f8ff3",
   "metadata": {},
   "outputs": [
    {
     "name": "stdout",
     "output_type": "stream",
     "text": [
      "John cannot come to dinner\n"
     ]
    }
   ],
   "source": [
    "print (f\"{names[1]} cannot come to dinner\")"
   ]
  },
  {
   "cell_type": "code",
   "execution_count": 18,
   "id": "15617f27-f07d-4eae-887d-36a354c0f52e",
   "metadata": {},
   "outputs": [
    {
     "name": "stdout",
     "output_type": "stream",
     "text": [
      "Peter, would u come to dinner?\n",
      "Kenny, would u come to dinner?\n",
      "Mary, would u come to dinner?\n",
      "Jason, would u come to dinner?\n"
     ]
    }
   ],
   "source": [
    "del names[1]\n",
    "names.insert(1,'Kenny')\n",
    "print(f\"{names[0]}, would u come to dinner?\")\n",
    "print(f\"{names[1]}, would u come to dinner?\")\n",
    "print(f\"{names[2]}, would u come to dinner?\")\n",
    "print(f\"{names[3]}, would u come to dinner?\")"
   ]
  },
  {
   "cell_type": "code",
   "execution_count": null,
   "id": "a5ff0a20-d209-4d79-8d66-ebfd751f09ae",
   "metadata": {},
   "outputs": [
    {
     "name": "stdout",
     "output_type": "stream",
     "text": [
      "We found a bigger table\n",
      "Lok, would u come to dinner?\n",
      "Peter, would u come to dinner?\n",
      "MAO, would u come to dinner?\n",
      "Kenny, would u come to dinner?\n",
      "Mary, would u come to dinner?\n",
      "Jason, would u come to dinner?\n",
      "Finna, would u come to dinner?\n"
     ]
    }
   ],
   "source": [
    "print(\"We found a bigger table\")\n",
    "\n",
    "names.insert(0,\"Lok\")\n",
    "names.insert(2,\"MAO\") #use insert to add to any postion\n",
    "names.append(\"Finna\") #use append to add to last position of the list\n",
    "print(f\"{names[0]}, would u come to dinner?\")\n",
    "print(f\"{names[1]}, would u come to dinner?\")\n",
    "print(f\"{names[2]}, would u come to dinner?\")\n",
    "print(f\"{names[3]}, would u come to dinner?\")\n",
    "print(f\"{names[4]}, would u come to dinner?\")\n",
    "print(f\"{names[5]}, would u come to dinner?\")\n",
    "print(f\"{names[6]}, would u come to dinner?\")\n"
   ]
  },
  {
   "cell_type": "code",
   "execution_count": 20,
   "id": "461a2911-bce5-47c0-bd04-e6b2bdbb974e",
   "metadata": {},
   "outputs": [
    {
     "name": "stdout",
     "output_type": "stream",
     "text": [
      "can only invite two ppl\n",
      "Finna, sorry , we cant invite u coming to dinner\n",
      "Jason, sorry , we cant invite u coming to dinner\n",
      "Mary, sorry , we cant invite u coming to dinner\n",
      "Kenny, sorry , we cant invite u coming to dinner\n",
      "MAO, sorry , we cant invite u coming to dinner\n"
     ]
    }
   ],
   "source": [
    "print(\"can only invite two ppl\")\n",
    "print(f\"{names.pop()}, sorry , we cant invite u coming to dinner\")\n",
    "print(f\"{names.pop()}, sorry , we cant invite u coming to dinner\")\n",
    "print(f\"{names.pop()}, sorry , we cant invite u coming to dinner\")\n",
    "print(f\"{names.pop()}, sorry , we cant invite u coming to dinner\")\n",
    "print(f\"{names.pop()}, sorry , we cant invite u coming to dinner\")"
   ]
  },
  {
   "cell_type": "code",
   "execution_count": 21,
   "id": "58be493c-19a1-48e2-b8d0-035e8c78ce20",
   "metadata": {},
   "outputs": [
    {
     "data": {
      "text/plain": [
       "['Lok', 'Peter']"
      ]
     },
     "execution_count": 21,
     "metadata": {},
     "output_type": "execute_result"
    }
   ],
   "source": [
    "names\n"
   ]
  },
  {
   "cell_type": "code",
   "execution_count": 22,
   "id": "42f5e8ac-52af-41cf-95c0-0410c9c934ba",
   "metadata": {},
   "outputs": [],
   "source": [
    "del names[0]"
   ]
  },
  {
   "cell_type": "code",
   "execution_count": 23,
   "id": "a272cced-ff6b-45c1-a08c-61ac08c1e1e3",
   "metadata": {},
   "outputs": [
    {
     "data": {
      "text/plain": [
       "['Peter']"
      ]
     },
     "execution_count": 23,
     "metadata": {},
     "output_type": "execute_result"
    }
   ],
   "source": [
    "names"
   ]
  },
  {
   "cell_type": "code",
   "execution_count": 24,
   "id": "a2b41799-555d-4956-a8bc-e7522eef3ea0",
   "metadata": {},
   "outputs": [
    {
     "name": "stdout",
     "output_type": "stream",
     "text": [
      "[]\n"
     ]
    }
   ],
   "source": [
    "del names[0] \n",
    "print(names)"
   ]
  },
  {
   "cell_type": "code",
   "execution_count": null,
   "id": "2e269f29-da6c-4a62-a7ca-f40078b272f8",
   "metadata": {},
   "outputs": [],
   "source": [
    "#For inserting :\n",
    "    #append(\"ada\") \n",
    "    #insert(3,\"da\")\n",
    "#For deleting:\n",
    "    #del names[2] \n",
    "    # a = pop() \n",
    "    #remove(\"Peter\") #remove first occurence only\n"
   ]
  },
  {
   "cell_type": "code",
   "execution_count": 28,
   "id": "4ba032ca-2556-465c-b6cf-69f87309ec72",
   "metadata": {},
   "outputs": [
    {
     "name": "stdout",
     "output_type": "stream",
     "text": [
      "['Canada', 'Germany', 'China', 'Denmark', 'Egypt']\n"
     ]
    }
   ],
   "source": [
    "countries= [ \"Canada\",\"Germany\",\"China\",\"Denmark\",\"Egypt\"]\n",
    "print(countries)"
   ]
  },
  {
   "cell_type": "code",
   "execution_count": 29,
   "id": "e5616e7d-5487-4a89-8aee-f2527c7ec78c",
   "metadata": {},
   "outputs": [
    {
     "name": "stdout",
     "output_type": "stream",
     "text": [
      "['Canada', 'China', 'Denmark', 'Egypt', 'Germany']\n"
     ]
    }
   ],
   "source": [
    "print(sorted(countries))#without modify original list"
   ]
  },
  {
   "cell_type": "code",
   "execution_count": 31,
   "id": "5fd45898-5266-43b6-9af3-f44b5eb6c770",
   "metadata": {},
   "outputs": [
    {
     "name": "stdout",
     "output_type": "stream",
     "text": [
      "['Canada', 'Germany', 'China', 'Denmark', 'Egypt']\n"
     ]
    }
   ],
   "source": [
    "print(countries)"
   ]
  },
  {
   "cell_type": "code",
   "execution_count": 35,
   "id": "b18943a2-1e12-454b-8c27-e2345be84bcb",
   "metadata": {},
   "outputs": [],
   "source": [
    "countries.reverse() "
   ]
  },
  {
   "cell_type": "code",
   "execution_count": 36,
   "id": "b10196e0-f9d8-41a7-a9b2-2e14d9d6ccc3",
   "metadata": {},
   "outputs": [
    {
     "data": {
      "text/plain": [
       "['Egypt', 'Denmark', 'China', 'Germany', 'Canada']"
      ]
     },
     "execution_count": 36,
     "metadata": {},
     "output_type": "execute_result"
    }
   ],
   "source": [
    "countries"
   ]
  },
  {
   "cell_type": "code",
   "execution_count": 37,
   "id": "ab40f263-3e6b-4523-a0c5-db439f260ec8",
   "metadata": {},
   "outputs": [],
   "source": [
    "countries.reverse()"
   ]
  },
  {
   "cell_type": "code",
   "execution_count": 38,
   "id": "5f05b432-f269-44b0-a66e-6680821a0a47",
   "metadata": {},
   "outputs": [
    {
     "data": {
      "text/plain": [
       "['Canada', 'Germany', 'China', 'Denmark', 'Egypt']"
      ]
     },
     "execution_count": 38,
     "metadata": {},
     "output_type": "execute_result"
    }
   ],
   "source": [
    "countries"
   ]
  },
  {
   "cell_type": "code",
   "execution_count": 39,
   "id": "3f56e154-16f7-4ad9-ba97-d521320f894c",
   "metadata": {},
   "outputs": [],
   "source": [
    "countries.sort()"
   ]
  },
  {
   "cell_type": "code",
   "execution_count": 40,
   "id": "e0a42b2f-adc5-4a19-b108-64b7f8ddfb08",
   "metadata": {},
   "outputs": [
    {
     "data": {
      "text/plain": [
       "['Canada', 'China', 'Denmark', 'Egypt', 'Germany']"
      ]
     },
     "execution_count": 40,
     "metadata": {},
     "output_type": "execute_result"
    }
   ],
   "source": [
    "countries"
   ]
  },
  {
   "cell_type": "code",
   "execution_count": 41,
   "id": "cf995753-779b-48f5-9adb-af5ffdc0f312",
   "metadata": {},
   "outputs": [],
   "source": [
    "countries.sort(reverse=True)"
   ]
  },
  {
   "cell_type": "code",
   "execution_count": 42,
   "id": "137848b8-3e2f-4288-a886-49fbc0f1ed53",
   "metadata": {},
   "outputs": [
    {
     "data": {
      "text/plain": [
       "['Germany', 'Egypt', 'Denmark', 'China', 'Canada']"
      ]
     },
     "execution_count": 42,
     "metadata": {},
     "output_type": "execute_result"
    }
   ],
   "source": [
    "countries"
   ]
  },
  {
   "cell_type": "code",
   "execution_count": 43,
   "id": "2968e1dd-1a69-4ac0-83a0-37a913dd43fb",
   "metadata": {},
   "outputs": [
    {
     "name": "stdout",
     "output_type": "stream",
     "text": [
      "5\n"
     ]
    }
   ],
   "source": [
    "print(len(countries))"
   ]
  }
 ],
 "metadata": {
  "kernelspec": {
   "display_name": "base",
   "language": "python",
   "name": "python3"
  },
  "language_info": {
   "codemirror_mode": {
    "name": "ipython",
    "version": 3
   },
   "file_extension": ".py",
   "mimetype": "text/x-python",
   "name": "python",
   "nbconvert_exporter": "python",
   "pygments_lexer": "ipython3",
   "version": "3.13.5"
  }
 },
 "nbformat": 4,
 "nbformat_minor": 5
}
