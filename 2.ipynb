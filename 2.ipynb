{
  "cells": [
    {
      "cell_type": "code",
      "execution_count": null,
      "metadata": {
        "colab": {
          "base_uri": "https://localhost:8080/"
        },
        "id": "sOzQtPDPqGFA",
        "outputId": "f51fb8e6-ec62-4e54-9c97-67821b538ae2"
      },
      "outputs": [
        {
          "name": "stdout",
          "output_type": "stream",
          "text": [
            "I like ham\n",
            "I like cheese\n",
            "I like chicken\n",
            "I like seafood\n",
            "I really love pizzas! \n"
          ]
        }
      ],
      "source": [
        "#4.1 Loop\n",
        "pizzas=['ham','cheese','chicken','seafood']\n",
        "for p in pizzas:\n",
        "  print(f\"I like {p}\")\n",
        "print(\"I really love pizzas! \")"
      ]
    },
    {
      "cell_type": "code",
      "execution_count": null,
      "metadata": {
        "colab": {
          "base_uri": "https://localhost:8080/"
        },
        "id": "LjIfDFbrq-ST",
        "outputId": "2d87b185-c020-428d-af21-e29f9d244d56"
      },
      "outputs": [
        {
          "name": "stdout",
          "output_type": "stream",
          "text": [
            "a pig would make a great pet\n",
            "a dog would make a great pet\n",
            "a cat would make a great pet\n",
            "a rabbit would make a great pet\n",
            "They are all great pet\n"
          ]
        }
      ],
      "source": [
        "animals= ['pig','dog','cat','rabbit']\n",
        "for a in animals:\n",
        "  print(f\"a {a} would make a great pet\")\n",
        "print(\"They are all great pet\")"
      ]
    },
    {
      "cell_type": "code",
      "execution_count": null,
      "metadata": {
        "colab": {
          "base_uri": "https://localhost:8080/"
        },
        "id": "hYsmNygrrTUT",
        "outputId": "9fef2d21-b5ac-46db-872e-bd6bb4b9a299"
      },
      "outputs": [
        {
          "name": "stdout",
          "output_type": "stream",
          "text": [
            "1\n",
            "2\n",
            "3\n",
            "4\n",
            "5\n",
            "6\n",
            "7\n",
            "8\n",
            "9\n",
            "10\n",
            "11\n",
            "12\n",
            "13\n",
            "14\n",
            "15\n",
            "16\n",
            "17\n",
            "18\n",
            "19\n",
            "20\n"
          ]
        }
      ],
      "source": [
        "for i in range(1,21):\n",
        "  print(i)"
      ]
    },
    {
      "cell_type": "code",
      "execution_count": null,
      "metadata": {
        "colab": {
          "base_uri": "https://localhost:8080/"
        },
        "id": "EIDCynq3wMeH",
        "outputId": "bd508caa-876b-4311-f03a-3bcacfb3d132"
      },
      "outputs": [
        {
          "name": "stdout",
          "output_type": "stream",
          "text": [
            "1000000\n",
            "1\n",
            "500000500000\n"
          ]
        }
      ],
      "source": [
        "list_of_million = list(range(1,1000001))\n",
        "print(max(list_of_million))\n",
        "print(min(list_of_million))\n",
        "print(sum(list_of_million))"
      ]
    },
    {
      "cell_type": "code",
      "execution_count": null,
      "metadata": {
        "colab": {
          "base_uri": "https://localhost:8080/"
        },
        "id": "X0mgrAvgwnDA",
        "outputId": "be2b3cc6-cd04-4aad-d065-6fe5a02d57d5"
      },
      "outputs": [
        {
          "name": "stdout",
          "output_type": "stream",
          "text": [
            "1\n",
            "3\n",
            "5\n",
            "7\n",
            "9\n",
            "11\n",
            "13\n",
            "15\n",
            "17\n",
            "19\n"
          ]
        }
      ],
      "source": [
        "li=[]\n",
        "for  i in range(1,21,2):\n",
        "  li.append(i)\n",
        "for j in li:\n",
        "  print(j)"
      ]
    },
    {
      "cell_type": "code",
      "execution_count": null,
      "metadata": {
        "colab": {
          "base_uri": "https://localhost:8080/"
        },
        "id": "jW1zNJwKw9iQ",
        "outputId": "2faa1912-ccb7-41f0-9176-c127bc73e499"
      },
      "outputs": [
        {
          "name": "stdout",
          "output_type": "stream",
          "text": [
            "3\n",
            "6\n",
            "9\n",
            "12\n",
            "15\n",
            "18\n",
            "21\n",
            "24\n",
            "27\n",
            "30\n"
          ]
        }
      ],
      "source": [
        "\n",
        "li=[]\n",
        "for i in range(3,31,3):\n",
        "  li.append(i)\n",
        "for i in li:\n",
        "  print (i)"
      ]
    },
    {
      "cell_type": "code",
      "execution_count": null,
      "metadata": {
        "colab": {
          "base_uri": "https://localhost:8080/"
        },
        "id": "g__FV10-xZLX",
        "outputId": "14f9f639-d1cd-4537-bc75-dcfbb1c45c1f"
      },
      "outputs": [
        {
          "name": "stdout",
          "output_type": "stream",
          "text": [
            "1\n",
            "8\n",
            "27\n",
            "64\n",
            "125\n",
            "216\n",
            "343\n",
            "512\n",
            "729\n",
            "1000\n"
          ]
        }
      ],
      "source": [
        "li=[]\n",
        "for i in range(1,11):\n",
        "  li.append(i*i*i)\n",
        "for j in li:\n",
        "  print(j)"
      ]
    },
    {
      "cell_type": "code",
      "execution_count": null,
      "metadata": {
        "id": "WUlqJkWXx2UQ"
      },
      "outputs": [],
      "source": [
        "list_of_cube= [x*x*x  for x in range(1,11)]"
      ]
    },
    {
      "cell_type": "code",
      "execution_count": null,
      "metadata": {
        "colab": {
          "base_uri": "https://localhost:8080/"
        },
        "id": "adHsmWhkyMG6",
        "outputId": "e64c9301-fb59-48a3-e5dd-8ea5f3e136f2"
      },
      "outputs": [
        {
          "data": {
            "text/plain": [
              "[1, 8, 27, 64, 125, 216, 343, 512, 729, 1000]"
            ]
          },
          "execution_count": 18,
          "metadata": {},
          "output_type": "execute_result"
        }
      ],
      "source": [
        "list_of_cube"
      ]
    },
    {
      "cell_type": "code",
      "execution_count": null,
      "metadata": {
        "colab": {
          "base_uri": "https://localhost:8080/"
        },
        "id": "ZF3GOc0HyN-6",
        "outputId": "9a1a88b6-a935-442c-a2ee-bf61f927e50d"
      },
      "outputs": [
        {
          "name": "stdout",
          "output_type": "stream",
          "text": [
            "The first 3 letters are : ['a', 'b', 'c']\n",
            "The last 3 letters are : ['f', 'g', 'h']\n",
            "The 4th to 6th items are : ['d', 'e', 'f']\n"
          ]
        }
      ],
      "source": [
        "li = ['a','b','c','d','e','f','g','h']\n",
        "print(\"The first 3 letters are : \"+ str(li[:3]))\n",
        "print(\"The last 3 letters are : \"+ str(li[-3:]))\n",
        "print(\"The 4th to 6th items are : \"+ str(li[3:6]))"
      ]
    },
    {
      "cell_type": "code",
      "execution_count": null,
      "metadata": {
        "colab": {
          "base_uri": "https://localhost:8080/"
        },
        "id": "QBmYsKRS6F1m",
        "outputId": "3a7ef550-389e-4209-a98b-fb00f056feb6"
      },
      "outputs": [
        {
          "name": "stdout",
          "output_type": "stream",
          "text": [
            "['pineapple', 'ham', 'cheese', 'chicken', 'seafood']\n",
            "['mango', 'ham', 'cheese', 'chicken', 'seafood']\n"
          ]
        }
      ],
      "source": [
        "pizzas=['ham','cheese','chicken','seafood']\n",
        "pizzas_copy=pizzas[:]\n",
        "pizzas.insert(0,'pineapple')\n",
        "pizzas_copy.insert(0,'mango')\n",
        "print(pizzas)\n",
        "print(pizzas_copy)#different copy"
      ]
    },
    {
      "cell_type": "code",
      "execution_count": null,
      "metadata": {
        "colab": {
          "base_uri": "https://localhost:8080/"
        },
        "id": "VOP3mcWV9V-O",
        "outputId": "b5c36108-10dc-48d6-f8b0-378e6d084528"
      },
      "outputs": [
        {
          "name": "stdout",
          "output_type": "stream",
          "text": [
            "chicken\n",
            "dimsum\n",
            "sushi\n",
            "sashimi\n"
          ]
        }
      ],
      "source": [
        "buffet_food=('chicken','dimsum','sushi','sashimi') #tuple are just immutable list\n",
        "for f in buffet_food:\n",
        "  print(f)\n"
      ]
    },
    {
      "cell_type": "code",
      "execution_count": null,
      "metadata": {
        "colab": {
          "base_uri": "https://localhost:8080/",
          "height": 141
        },
        "id": "bSw-mEHk9lF6",
        "outputId": "d23775d8-f029-4dd4-8540-e06d0f4f1dbf"
      },
      "outputs": [
        {
          "ename": "TypeError",
          "evalue": "'tuple' object does not support item assignment",
          "output_type": "error",
          "traceback": [
            "\u001b[0;31m---------------------------------------------------------------------------\u001b[0m",
            "\u001b[0;31mTypeError\u001b[0m                                 Traceback (most recent call last)",
            "\u001b[0;32m/tmp/ipython-input-25-4155083104.py\u001b[0m in \u001b[0;36m<cell line: 0>\u001b[0;34m()\u001b[0m\n\u001b[0;32m----> 1\u001b[0;31m \u001b[0mbuffet_food\u001b[0m\u001b[0;34m[\u001b[0m\u001b[0;36m3\u001b[0m\u001b[0;34m]\u001b[0m\u001b[0;34m=\u001b[0m\u001b[0;34m'pizza'\u001b[0m\u001b[0;34m\u001b[0m\u001b[0;34m\u001b[0m\u001b[0m\n\u001b[0m",
            "\u001b[0;31mTypeError\u001b[0m: 'tuple' object does not support item assignment"
          ]
        }
      ],
      "source": [
        "buffet_food[3]='pizza'"
      ]
    },
    {
      "cell_type": "code",
      "execution_count": null,
      "metadata": {
        "id": "2tvlsnFH9jK9"
      },
      "outputs": [],
      "source": [
        "buffet_food=('juice','fruit','sushi','sashimi') #tuple are just immutable list"
      ]
    },
    {
      "cell_type": "code",
      "execution_count": null,
      "metadata": {
        "colab": {
          "base_uri": "https://localhost:8080/"
        },
        "id": "ZZG7S1MI9xp8",
        "outputId": "8a8732a6-57bd-424e-bdbb-857b4605a9d3"
      },
      "outputs": [
        {
          "name": "stdout",
          "output_type": "stream",
          "text": [
            "('juice', 'fruit', 'sushi', 'sashimi')\n"
          ]
        }
      ],
      "source": [
        "print(buffet_food)"
      ]
    },
    {
      "cell_type": "code",
      "execution_count": null,
      "metadata": {
        "colab": {
          "base_uri": "https://localhost:8080/"
        },
        "id": "TvCDNcE99y2l",
        "outputId": "55d93209-1a07-43e3-cbe0-e37a22356a23"
      },
      "outputs": [
        {
          "name": "stdout",
          "output_type": "stream",
          "text": [
            "Predicted True |Actual: True\n",
            "Predicted True |Actual: True\n",
            "Predicted False | Actual: False\n",
            "Predicted False | Actual: False\n",
            "Predicted True | Actual: True\n"
          ]
        }
      ],
      "source": [
        "fruit = 'mango'\n",
        "print (f\"Predicted True |Actual: {'mango'==fruit}\")\n",
        "print (f\"Predicted True |Actual: {3==3}\")\n",
        "print (f\"Predicted False | Actual: {'Mango'==fruit}\")\n",
        "print (f\"Predicted False | Actual: {3=='3'}\")\n",
        "print (f\"Predicted True | Actual: {'AuDi'.lower()=='audi'}\")\n"
      ]
    },
    {
      "cell_type": "code",
      "execution_count": null,
      "metadata": {
        "colab": {
          "base_uri": "https://localhost:8080/"
        },
        "id": "G4XzobV6P4K6",
        "outputId": "3a870294-b255-4f3b-9fdd-99f869aaf29d"
      },
      "outputs": [
        {
          "name": "stdout",
          "output_type": "stream",
          "text": [
            "Predicted True | Actual: True\n",
            "Predicted True | Actual: True\n",
            "Predicted True | Actual: True\n",
            "Predicted False | Actual: False\n",
            "Predicted False | Actual: False\n"
          ]
        }
      ],
      "source": [
        "print (f\"Predicted True | Actual: {3==3.0}\")\n",
        "print (f\"Predicted True | Actual: {3<=3.0}\")\n",
        "print (f\"Predicted True | Actual: {3>=3.0}\")\n",
        "print (f\"Predicted False | Actual: {3<3.0}\")\n",
        "print (f\"Predicted False | Actual: {3>3.0}\")"
      ]
    },
    {
      "cell_type": "code",
      "execution_count": null,
      "metadata": {
        "colab": {
          "base_uri": "https://localhost:8080/"
        },
        "id": "OuXYy0WtRG4r",
        "outputId": "dad1be1f-dcf6-421a-ea09-1960139ac8e5"
      },
      "outputs": [
        {
          "name": "stdout",
          "output_type": "stream",
          "text": [
            "False\n",
            "False\n"
          ]
        }
      ],
      "source": [
        "print(3<2 and 4>5)\n",
        "print(1==4 or 3>5)"
      ]
    },
    {
      "cell_type": "code",
      "execution_count": null,
      "metadata": {
        "colab": {
          "base_uri": "https://localhost:8080/"
        },
        "id": "hA-dmZeMRucx",
        "outputId": "084ba73e-dc16-45df-fcb1-2c0dc155c519"
      },
      "outputs": [
        {
          "name": "stdout",
          "output_type": "stream",
          "text": [
            "True\n",
            "True\n"
          ]
        }
      ],
      "source": [
        "buffet_food=('juice','fruit','sushi','sashimi')\n",
        "print('juice' in buffet_food)\n",
        "print('beef' not in buffet_food)"
      ]
    },
    {
      "cell_type": "code",
      "execution_count": null,
      "metadata": {
        "colab": {
          "base_uri": "https://localhost:8080/"
        },
        "id": "xqIdhytlR6CZ",
        "outputId": "16fbc239-c110-41c8-f8c0-d301d64721c3"
      },
      "outputs": [
        {
          "name": "stdout",
          "output_type": "stream",
          "text": [
            "You have won 5 pts\n"
          ]
        }
      ],
      "source": [
        "alien_color = 'green'\n",
        "if alien_color=='green':\n",
        "  print(\"You have won 5 pts\")"
      ]
    },
    {
      "cell_type": "code",
      "execution_count": null,
      "metadata": {
        "id": "B2Q9nDRJVZiZ"
      },
      "outputs": [],
      "source": [
        "alien_color = 'red'\n",
        "if alien_color=='green':\n",
        "  print(\"You have won 5 pts\")"
      ]
    },
    {
      "cell_type": "code",
      "execution_count": null,
      "metadata": {
        "colab": {
          "base_uri": "https://localhost:8080/"
        },
        "id": "-5WkwC-XVbGQ",
        "outputId": "7c7b6b9c-ae5d-4a41-e7a7-1984af6294c3"
      },
      "outputs": [
        {
          "name": "stdout",
          "output_type": "stream",
          "text": [
            "You have won 5 pts\n"
          ]
        }
      ],
      "source": [
        "alien_color = 'green'\n",
        "if alien_color=='green':\n",
        "  print(\"You have won 5 pts\")\n",
        "else:\n",
        "  print(\"You won 10 pts\")"
      ]
    },
    {
      "cell_type": "code",
      "execution_count": null,
      "metadata": {
        "colab": {
          "base_uri": "https://localhost:8080/"
        },
        "id": "LHHXRL0CVp_n",
        "outputId": "becf7c1b-bece-47e2-9bea-12c6479f3468"
      },
      "outputs": [
        {
          "name": "stdout",
          "output_type": "stream",
          "text": [
            "You won 10 pts\n"
          ]
        }
      ],
      "source": [
        "alien_color = 'red'\n",
        "if alien_color=='green':\n",
        "  print(\"You have won 5 pts\")\n",
        "else:\n",
        "  print(\"You won 10 pts\")"
      ]
    },
    {
      "cell_type": "code",
      "execution_count": null,
      "metadata": {
        "colab": {
          "base_uri": "https://localhost:8080/"
        },
        "id": "r1R0pppxVr0Y",
        "outputId": "1bd15903-5659-4e2c-d355-24c0d697f52a"
      },
      "outputs": [
        {
          "name": "stdout",
          "output_type": "stream",
          "text": [
            "You have won 5 pts\n"
          ]
        }
      ],
      "source": [
        "alien_color = 'green'\n",
        "if alien_color=='green':\n",
        "  print(\"You have won 5 pts\")\n",
        "elif alien_color =='red':\n",
        "  print (\"You have won 10 pts\")\n",
        "else:\n",
        "  print(\"You won 20 pts\")"
      ]
    },
    {
      "cell_type": "code",
      "execution_count": null,
      "metadata": {
        "colab": {
          "base_uri": "https://localhost:8080/"
        },
        "id": "lMiWv-f7XP_I",
        "outputId": "43c9f75d-3505-418d-e414-30edb54c019b"
      },
      "outputs": [
        {
          "name": "stdout",
          "output_type": "stream",
          "text": [
            "You have won 10 pts\n"
          ]
        }
      ],
      "source": [
        "alien_color = 'red'\n",
        "if alien_color=='green':\n",
        "  print(\"You have won 5 pts\")\n",
        "elif alien_color =='red':\n",
        "  print (\"You have won 10 pts\")\n",
        "else:\n",
        "  print(\"You won 20 pts\")"
      ]
    },
    {
      "cell_type": "code",
      "execution_count": null,
      "metadata": {
        "colab": {
          "base_uri": "https://localhost:8080/"
        },
        "id": "DCGNDjqCXRXP",
        "outputId": "1710c8c6-8e2a-4379-c38f-23f5ddb98c56"
      },
      "outputs": [
        {
          "name": "stdout",
          "output_type": "stream",
          "text": [
            "You won 20 pts\n"
          ]
        }
      ],
      "source": [
        "alien_color = 'yellow'\n",
        "if alien_color=='green':\n",
        "  print(\"You have won 5 pts\")\n",
        "elif alien_color =='red':\n",
        "  print (\"You have won 10 pts\")\n",
        "else:\n",
        "  print(\"You won 20 pts\")"
      ]
    },
    {
      "cell_type": "code",
      "execution_count": null,
      "metadata": {
        "colab": {
          "base_uri": "https://localhost:8080/"
        },
        "id": "FWsKYih3XTJA",
        "outputId": "6541223b-0534-41bd-d04f-7a12a721b4b2"
      },
      "outputs": [
        {
          "name": "stdout",
          "output_type": "stream",
          "text": [
            "teenage\n"
          ]
        }
      ],
      "source": [
        "age=13\n",
        "if age<2:\n",
        "  print('baby')\n",
        "elif age>=2 and age<4:\n",
        "  print('toddler')\n",
        "elif age>=4 and age<13:\n",
        "  print('kid')\n",
        "elif age>=13 and age<20:\n",
        "  print('teenage')\n",
        "elif age>=20 and age<65:\n",
        "  print('adult')\n",
        "elif age>=65:\n",
        "  print('elder')"
      ]
    },
    {
      "cell_type": "code",
      "execution_count": null,
      "metadata": {
        "colab": {
          "base_uri": "https://localhost:8080/"
        },
        "id": "u78dedjUX3oX",
        "outputId": "c60b7d9e-fa43-4808-aca1-145336c86f9d"
      },
      "outputs": [
        {
          "name": "stdout",
          "output_type": "stream",
          "text": [
            "You really like berry!\n",
            "You really like cherry!\n",
            "You really like pears!\n"
          ]
        }
      ],
      "source": [
        "fav_fruits=['banana','pears','cherry','berry']\n",
        "if 'berry' in fav_fruits:\n",
        "  print('You really like berry!')\n",
        "if 'cherry' in fav_fruits:\n",
        "  print('You really like cherry!')\n",
        "if 'pears' in fav_fruits:\n",
        "  print('You really like pears!')\n",
        "if 'mango' in fav_fruits:\n",
        "  print('You really like mango!')\n",
        "if 'pineapple' in fav_fruits:\n",
        "  print('You really like pineapple!')"
      ]
    },
    {
      "cell_type": "code",
      "execution_count": null,
      "metadata": {
        "colab": {
          "base_uri": "https://localhost:8080/"
        },
        "id": "FQIThA4mY2JX",
        "outputId": "8543149d-127c-4ce8-8fb1-49326e961f02"
      },
      "outputs": [
        {
          "name": "stdout",
          "output_type": "stream",
          "text": [
            "Welcome back, edwin. Thank you for login\n",
            "Welcome back, june. Thank you for login\n",
            "Hello admin, do you want to view a report\n",
            "Welcome back, candy. Thank you for login\n"
          ]
        }
      ],
      "source": [
        "usernames=['edwin','june','admin','candy']\n",
        "for i in usernames:\n",
        "  if i =='admin':\n",
        "    print(f'Hello {i}, do you want to view a report')\n",
        "  else:\n",
        "    print(f\"Welcome back, {i}. Thank you for login\")"
      ]
    },
    {
      "cell_type": "code",
      "execution_count": null,
      "metadata": {
        "colab": {
          "base_uri": "https://localhost:8080/"
        },
        "id": "uwZCdgxLpfkF",
        "outputId": "83f21f46-c417-4512-e21b-7729597ba72d"
      },
      "outputs": [
        {
          "name": "stdout",
          "output_type": "stream",
          "text": [
            "list empty\n"
          ]
        }
      ],
      "source": [
        "usernames=['edwin','june','admin','candy']\n",
        "for i in range(4):\n",
        "  del usernames[0]\n",
        "\n",
        "if usernames: #check list empty\n",
        "  for i in usernames:\n",
        "    if i =='admin':\n",
        "      print(f'Hello {i}, do you want to view a report')\n",
        "    else:\n",
        "      print(f\"Welcome back, {i}. Thank you for login\")\n",
        "else:\n",
        "  print(\"list empty\")"
      ]
    },
    {
      "cell_type": "code",
      "execution_count": null,
      "metadata": {
        "colab": {
          "base_uri": "https://localhost:8080/"
        },
        "id": "OAI-LTmYpvJF",
        "outputId": "50fdbf3c-0d1b-4105-e79c-a56262d49a78"
      },
      "outputs": [
        {
          "name": "stdout",
          "output_type": "stream",
          "text": [
            "currentusernames are ['jacky', 'john', 'derek', 'ivan', 'celina']\n",
            "existed already\n",
            "username mena avaliable\n",
            "existed already\n",
            "username fish avaliable\n"
          ]
        }
      ],
      "source": [
        "current_usernames= ['Jacky','John','derek','ivan','Celina']\n",
        "user_inputs=['jacky','mena','Derek','fish']\n",
        "current_usernames_lower=[]\n",
        "for i in current_usernames:\n",
        "  current_usernames_lower.append(i.lower())\n",
        "print(f\"currentusernames are {current_usernames_lower}\")\n",
        "\n",
        "for i in user_inputs:\n",
        "  if i.lower() in current_usernames_lower:\n",
        "    print(\"existed already\")\n",
        "  else:\n",
        "    print(f\"username {i} avaliable\")"
      ]
    },
    {
      "cell_type": "code",
      "execution_count": null,
      "metadata": {
        "colab": {
          "base_uri": "https://localhost:8080/"
        },
        "id": "nrTP_Gv8sVbD",
        "outputId": "d0356bca-e598-4cfe-b9d2-0a36cbb580f3"
      },
      "outputs": [
        {
          "name": "stdout",
          "output_type": "stream",
          "text": [
            "[1, 2, 3, 4, 5, 6, 7, 8, 9]\n"
          ]
        }
      ],
      "source": [
        "nums=[x for x in range(1,10)]\n",
        "print(nums)"
      ]
    },
    {
      "cell_type": "code",
      "execution_count": null,
      "metadata": {
        "colab": {
          "base_uri": "https://localhost:8080/"
        },
        "id": "_Qg_wBXnuU4J",
        "outputId": "1c1b61f8-5439-4694-c2e6-fd07a1e9dbf5"
      },
      "outputs": [
        {
          "name": "stdout",
          "output_type": "stream",
          "text": [
            "1st\n",
            "2nd\n",
            "3rd\n",
            "4th\n",
            "5th\n",
            "6th\n",
            "7th\n",
            "8th\n",
            "9th\n"
          ]
        }
      ],
      "source": [
        "for i in nums:\n",
        "  if i == 1:\n",
        "    print(f\"{i}st\")\n",
        "  elif i == 2:\n",
        "    print(f\"{i}nd\")\n",
        "  elif i == 3:\n",
        "    print(f\"{i}rd\")\n",
        "  else:\n",
        "    print(f\"{i}th\")"
      ]
    },
    {
      "cell_type": "markdown",
      "metadata": {
        "id": "RoLwSrtDE8-4"
      },
      "source": [
        "\n",
        "## **Dictionary**\n",
        "\n",
        "\n"
      ]
    },
    {
      "cell_type": "code",
      "execution_count": null,
      "metadata": {
        "colab": {
          "base_uri": "https://localhost:8080/"
        },
        "id": "3sYHrMgivn1Z",
        "outputId": "1a5c68c6-e6ca-4c44-bfdf-49c945f307c2"
      },
      "outputs": [
        {
          "name": "stdout",
          "output_type": "stream",
          "text": [
            "Ivan\n",
            "Chan\n",
            "26\n",
            "HK\n"
          ]
        }
      ],
      "source": [
        "employee_a = {\n",
        "    \"first_name\":\"Ivan\",\n",
        "    \"last_name\":\"Chan\",\n",
        "    \"age\":26,\n",
        "    \"city\":\"HK\",\n",
        "}\n",
        "print(employee_a['first_name'])\n",
        "print(employee_a['last_name'])\n",
        "print(employee_a['age'])\n",
        "print(employee_a['city'])\n"
      ]
    },
    {
      "cell_type": "code",
      "execution_count": null,
      "metadata": {
        "colab": {
          "base_uri": "https://localhost:8080/"
        },
        "id": "pVxyJgrFFgUB",
        "outputId": "043f7330-2a60-4571-b4d6-c8d53b3a0969"
      },
      "outputs": [
        {
          "name": "stdout",
          "output_type": "stream",
          "text": [
            "ivan Like 2\n",
            "jack Like 3\n",
            "ken Like 5\n"
          ]
        }
      ],
      "source": [
        "fav_nums={\n",
        "    \"ivan\":2,\n",
        "    \"jack\":3,\n",
        "    \"ken\":5\n",
        "}\n",
        "for i in fav_nums:\n",
        "  print(f\"{i} Like {fav_nums[i]}\")"
      ]
    },
    {
      "cell_type": "code",
      "execution_count": null,
      "metadata": {
        "colab": {
          "base_uri": "https://localhost:8080/"
        },
        "id": "s_mJ3pQIF4nM",
        "outputId": "ed0c64ae-fd1e-4430-a251-bc4eb5b2f8b6"
      },
      "outputs": [
        {
          "name": "stdout",
          "output_type": "stream",
          "text": [
            "variable:\n",
            "\tvalues u can change in a program\n",
            "\n",
            "string:\n",
            "\tdata type holding series of characters\n",
            "\n",
            "tuple:\n",
            "\timmuatable list\n",
            "\n"
          ]
        }
      ],
      "source": [
        "glossary={\n",
        "    \"variable\":\"values u can change in a program\",\n",
        "    \"string\":\"data type holding series of characters\",\n",
        "    \"tuple\":'immuatable list'\n",
        "}\n",
        "\n",
        "for i in glossary:\n",
        "  print(f\"{i}:\")\n",
        "  print(f\"\\t{glossary[i]}\\n\")\n"
      ]
    },
    {
      "cell_type": "code",
      "execution_count": null,
      "metadata": {
        "colab": {
          "base_uri": "https://localhost:8080/"
        },
        "id": "Dy3W0whOGly4",
        "outputId": "34cfb385-79f8-459e-9fad-4bda40465ecd"
      },
      "outputs": [
        {
          "name": "stdout",
          "output_type": "stream",
          "text": [
            "No verb defined\n",
            "immuatable list\n"
          ]
        }
      ],
      "source": [
        "print (glossary.get('verb','No verb defined'))\n",
        "print (glossary.get('tuple','No verb defined'))"
      ]
    },
    {
      "cell_type": "code",
      "execution_count": null,
      "metadata": {
        "colab": {
          "base_uri": "https://localhost:8080/"
        },
        "id": "3jc3ayvpb95E",
        "outputId": "e0cb1f00-af1c-4173-e7a9-a8ad46ccf7d3"
      },
      "outputs": [
        {
          "name": "stdout",
          "output_type": "stream",
          "text": [
            "variable:\n",
            "\tvalues u can change in a program\n",
            "\n",
            "string:\n",
            "\tdata type holding series of characters\n",
            "\n",
            "tuple:\n",
            "\timmuatable list\n",
            "\n"
          ]
        }
      ],
      "source": [
        "#loop through the full Dictionary\n",
        "for k,v in glossary.items():\n",
        "  print(f\"{k}:\")\n",
        "  print(f\"\\t{v}\\n\")"
      ]
    },
    {
      "cell_type": "code",
      "execution_count": null,
      "metadata": {
        "id": "kMliMvomcQ20"
      },
      "outputs": [],
      "source": [
        "glossary['python']='a programming language'\n",
        "glossary['C++']='a low level programming language'"
      ]
    },
    {
      "cell_type": "code",
      "execution_count": null,
      "metadata": {
        "colab": {
          "base_uri": "https://localhost:8080/"
        },
        "id": "g7J3p8Picwl-",
        "outputId": "8efb5a7f-f266-43a8-baad-178af36c31f4"
      },
      "outputs": [
        {
          "name": "stdout",
          "output_type": "stream",
          "text": [
            "variable:\n",
            "\tvalues u can change in a program\n",
            "\n",
            "string:\n",
            "\tdata type holding series of characters\n",
            "\n",
            "tuple:\n",
            "\timmuatable list\n",
            "\n",
            "python:\n",
            "\ta programming language\n",
            "\n",
            "C++:\n",
            "\ta low level programming language\n",
            "\n"
          ]
        }
      ],
      "source": [
        "for k,v in glossary.items():\n",
        "  print(f\"{k}:\")\n",
        "  print(f\"\\t{v}\\n\")"
      ]
    },
    {
      "cell_type": "code",
      "execution_count": null,
      "metadata": {
        "colab": {
          "base_uri": "https://localhost:8080/"
        },
        "id": "e29kr_HFcyBu",
        "outputId": "903576dd-c6ef-443b-a7ec-2bf15477deaa"
      },
      "outputs": [
        {
          "name": "stdout",
          "output_type": "stream",
          "text": [
            "The rivers mentioned are: \n",
            "nile\n",
            "riverA\n",
            "riverAmazon\n"
          ]
        }
      ],
      "source": [
        "river_dict={\n",
        "    'riverA':'canada',\n",
        "    'riverAmazon':'usa',\n",
        "    \"nile\":'egypt'\n",
        "}\n",
        "print('The rivers mentioned are: ')\n",
        "for i in sorted(river_dict.keys()):\n",
        "    print(i)"
      ]
    },
    {
      "cell_type": "code",
      "execution_count": null,
      "metadata": {
        "colab": {
          "base_uri": "https://localhost:8080/"
        },
        "id": "ex37Dx4ZeEFv",
        "outputId": "383e62c1-e333-41d5-8259-3dbb27636af8"
      },
      "outputs": [
        {
          "name": "stdout",
          "output_type": "stream",
          "text": [
            "The countries mentioned are: \n",
            "canada\n",
            "egypt\n",
            "usa\n"
          ]
        }
      ],
      "source": [
        "print('The countries mentioned are: ')\n",
        "for i in sorted(river_dict.values()):\n",
        "    print(i)"
      ]
    },
    {
      "cell_type": "code",
      "execution_count": null,
      "metadata": {
        "colab": {
          "base_uri": "https://localhost:8080/"
        },
        "id": "eAdBiVlPeKtI",
        "outputId": "9b041482-779f-4cd2-a262-3662520379e7"
      },
      "outputs": [
        {
          "name": "stdout",
          "output_type": "stream",
          "text": [
            "nile pass through egypt\n",
            "riverA pass through canada\n",
            "riverAmazon pass through usa\n"
          ]
        }
      ],
      "source": [
        "for k,v in sorted(river_dict.items()):\n",
        "    print(f\"{k} pass through {v}\")"
      ]
    },
    {
      "cell_type": "code",
      "execution_count": null,
      "metadata": {
        "colab": {
          "base_uri": "https://localhost:8080/"
        },
        "id": "UiYJ-HDtedLy",
        "outputId": "50681f83-6290-498d-9215-bb50ab613d6f"
      },
      "outputs": [
        {
          "name": "stdout",
          "output_type": "stream",
          "text": [
            "Thank you for polling\n",
            "Please select your fav language, Jacky\n",
            "Thank you for polling\n",
            "Please select your fav language, Monica\n",
            "Thank you for polling\n",
            "Thank you for polling\n"
          ]
        }
      ],
      "source": [
        "poll_result={\n",
        "    \"Kitty\":\"C\",\n",
        "    \"Jason\":\"Python\",\n",
        "    \"Howard\":\"VB\",\n",
        "    \"Ivan\":\"Java\"\n",
        "}\n",
        "list_require_result=[\"Ivan\",'Jacky',\"Jason\",\"Monica\",\"Kitty\",\"Howard\"]\n",
        "for i in list_require_result:\n",
        "  if i in (poll_result.keys()):\n",
        "    print (\"Thank you for polling\")\n",
        "  else:\n",
        "    print (f\"Please select your fav language, {i}\")"
      ]
    },
    {
      "cell_type": "code",
      "execution_count": null,
      "metadata": {
        "colab": {
          "base_uri": "https://localhost:8080/"
        },
        "id": "xq5IW8N8vmxk",
        "outputId": "983f1328-f464-477d-ec2b-41110d0e7d16"
      },
      "outputs": [
        {
          "name": "stdout",
          "output_type": "stream",
          "text": [
            "Last name is : Chan\n",
            "First name is : Ivan\n",
            "city is : HK\n",
            "\n",
            "\n",
            "Last name is : Li\n",
            "First name is : Ken\n",
            "city is : USA\n",
            "\n",
            "\n",
            "Last name is : Ma\n",
            "First name is : David\n",
            "city is : Mongolia\n",
            "\n",
            "\n"
          ]
        }
      ],
      "source": [
        "peopleA={\n",
        "    'lastname':'Chan',\n",
        "    'firstname':'Ivan',\n",
        "    'city':'HK'\n",
        "}\n",
        "peopleB={\n",
        "    'lastname':'Li',\n",
        "    'firstname':'Ken',\n",
        "    'city':'USA'\n",
        "}\n",
        "peopleC={\n",
        "    'lastname':'Ma',\n",
        "    'firstname':'David',\n",
        "    'city':'Mongolia'\n",
        "}\n",
        "people_list=[peopleA,peopleB,peopleC]\n",
        "for p in people_list:\n",
        "  print(f\"Last name is : {p['lastname']}\")\n",
        "  print(f\"First name is : {p['firstname']}\")\n",
        "  print(f\"city is : {p['city']}\")\n",
        "  print('\\n')"
      ]
    },
    {
      "cell_type": "code",
      "execution_count": null,
      "metadata": {
        "colab": {
          "base_uri": "https://localhost:8080/"
        },
        "id": "rOG8IOoL2fis",
        "outputId": "5a4f441d-1210-4ce9-b6e4-a8b9e02a4544"
      },
      "outputs": [
        {
          "name": "stdout",
          "output_type": "stream",
          "text": [
            "dog belongs to Ivan\n",
            "cat belongs to kitty\n",
            "rabbit belongs to Dave\n"
          ]
        }
      ],
      "source": [
        "petA={\n",
        "    \"type\":\"dog\",\n",
        "    \"owner\":'Ivan'\n",
        "}\n",
        "petB={\n",
        "    \"type\":\"cat\",\n",
        "    \"owner\":\"kitty\"\n",
        "}\n",
        "petC={\n",
        "    \"type\":\"rabbit\",\n",
        "    \"owner\":\"Dave\"\n",
        "}\n",
        "li_pet=[petA,petB,petC]\n",
        "for p in li_pet:\n",
        "  print(f'{p[\"type\"]} belongs to {p[\"owner\"]}')"
      ]
    },
    {
      "cell_type": "code",
      "execution_count": null,
      "metadata": {
        "colab": {
          "base_uri": "https://localhost:8080/"
        },
        "id": "4Tnp4-_G3CVF",
        "outputId": "e30c029c-de55-4791-8953-8968eb7bbe8d"
      },
      "outputs": [
        {
          "name": "stdout",
          "output_type": "stream",
          "text": [
            "kitty Like the following places\n",
            "\t usa\n",
            "\t canada\n",
            "\t egypt\n",
            "anson Like the following places\n",
            "\t china\n",
            "ivan Like the following places\n",
            "\t russia\n",
            "\t germany\n"
          ]
        }
      ],
      "source": [
        "fav_places={\n",
        "    \"kitty\":[\"usa\",'canada','egypt'],\n",
        "    \"anson\":['china'],\n",
        "    \"ivan\":['russia','germany']\n",
        "}\n",
        "for k,v in fav_places.items():\n",
        "  print(f\"{k} Like the following places\")\n",
        "  for country in v:\n",
        "    print(f'\\t {country}')"
      ]
    },
    {
      "cell_type": "code",
      "execution_count": null,
      "metadata": {
        "colab": {
          "base_uri": "https://localhost:8080/"
        },
        "id": "tEIee3IP6gLC",
        "outputId": "a9b57106-0215-4071-eb99-e57a0d27ea13"
      },
      "outputs": [
        {
          "name": "stdout",
          "output_type": "stream",
          "text": [
            "jacky Like : \n",
            "\t 1\n",
            "\t 3\n",
            "\t 5\n",
            "koe Like : \n",
            "\t 2\n",
            "\t 4\n",
            "Ivan Like : \n",
            "\t 1\n"
          ]
        }
      ],
      "source": [
        "fav_nums={\n",
        "    \"jacky\":[1,3,5],\n",
        "    \"koe\":[2,4],\n",
        "    \"Ivan\":[1]\n",
        "}\n",
        "for k,v in fav_nums.items():\n",
        "  print(f\"{k} Like : \")\n",
        "  for num in v:\n",
        "    print(f\"\\t {num}\")"
      ]
    },
    {
      "cell_type": "code",
      "execution_count": 4,
      "metadata": {
        "id": "eyY4LvmkIbHj"
      },
      "outputs": [
        {
          "name": "stdout",
          "output_type": "stream",
          "text": [
            "HKSAR is located in China\n",
            "Tokyo is located in Japan\n",
            "New York is located in USA\n"
          ]
        }
      ],
      "source": [
        "\n",
        "cities={\n",
        "    \"HKSAR\":{\n",
        "        \"country\":\"China\",\n",
        "        \"fact\":\"a sepcial adminstration region in China\",\n",
        "        \"population\":\"700m\"\n",
        "    },\n",
        "    \"Tokyo\": {\n",
        "        \"country\": \"Japan\",\n",
        "        \"fact\": \"the capital city of Japan\",\n",
        "        \"population\": \"14m\"\n",
        "    },\n",
        "    \"New York\": {\n",
        "        \"country\": \"USA\",\n",
        "        \"fact\": \"known as the Big Apple\",\n",
        "        \"population\": \"8.4m\"\n",
        "    }\n",
        "}\n",
        "for city,cityInfo in cities.items():\n",
        "  print (f\"{city} is located in {cityInfo['country']}\")"
      ]
    },
    {
      "cell_type": "code",
      "execution_count": null,
      "metadata": {
        "colab": {
          "base_uri": "https://localhost:8080/"
        },
        "id": "EFvBsfaOJv4P",
        "outputId": "bc587110-be0e-4859-9c9e-d73e38c1d260"
      },
      "outputs": [
        {
          "name": "stdout",
          "output_type": "stream",
          "text": [
            "Enter age:  42\n",
            "42\n"
          ]
        }
      ],
      "source": [
        "prompt=input('Enter age:  ')\n",
        "print(prompt)"
      ]
    },
    {
      "cell_type": "code",
      "execution_count": null,
      "metadata": {
        "colab": {
          "base_uri": "https://localhost:8080/"
        },
        "id": "NZh9qv4mLQ7i",
        "outputId": "632f3442-6f6a-45b3-9d33-2f21c61f1f05"
      },
      "outputs": [
        {
          "name": "stdout",
          "output_type": "stream",
          "text": [
            "What is your favourite car?Ferrari\n",
            "Let me see if i can find you a Ferrari\n"
          ]
        }
      ],
      "source": [
        "user_fav= input('What is your favourite car?')\n",
        "print(f'Let me see if i can find you a {user_fav}')"
      ]
    },
    {
      "cell_type": "code",
      "execution_count": null,
      "metadata": {
        "colab": {
          "base_uri": "https://localhost:8080/"
        },
        "id": "KVEy2GfFMoXB",
        "outputId": "90546b65-f880-4831-bb47-2b7962fa7777"
      },
      "outputs": [
        {
          "name": "stdout",
          "output_type": "stream",
          "text": [
            "How many priple are in your dinner group?1\n",
            "We have table for u\n"
          ]
        }
      ],
      "source": [
        "no_ppl= input ('How many priple are in your dinner group?')\n",
        "no_ppl=int(no_ppl)\n",
        "\n",
        "if no_ppl>8:\n",
        "  print('you have to wait')\n",
        "else:\n",
        "  print('We have table for u')"
      ]
    },
    {
      "cell_type": "code",
      "execution_count": null,
      "metadata": {
        "colab": {
          "base_uri": "https://localhost:8080/"
        },
        "id": "EjPsu4xtM_zA",
        "outputId": "9c326dc6-1083-4df0-e761-e9b40320ee13"
      },
      "outputs": [
        {
          "name": "stdout",
          "output_type": "stream",
          "text": [
            "enter a number40\n",
            "multiple of 10\n"
          ]
        }
      ],
      "source": [
        "num= input('enter a number')\n",
        "num=int(num)\n",
        "if num%10==0:\n",
        "  print('multiple of 10')\n",
        "else:\n",
        "  print('not multiple of 10')"
      ]
    },
    {
      "cell_type": "code",
      "execution_count": null,
      "metadata": {
        "colab": {
          "base_uri": "https://localhost:8080/"
        },
        "id": "QNJ_APzONbQl",
        "outputId": "8e013e76-899c-4360-9935-8e359232be58"
      },
      "outputs": [
        {
          "name": "stdout",
          "output_type": "stream",
          "text": [
            "What topping u would like to add?mushroom\n",
            "adding mushroom\n",
            "What topping u would like to add?nut\n",
            "adding nut\n",
            "What topping u would like to add?apple\n",
            "adding apple\n",
            "What topping u would like to add?quit\n"
          ]
        }
      ],
      "source": [
        "topping=''\n",
        "while topping != 'quit':\n",
        "  topping= input('What topping u would like to add?')\n",
        "  if(topping=='quit'):\n",
        "    break\n",
        "  else:\n",
        "    print(f'adding {topping}')"
      ]
    },
    {
      "cell_type": "code",
      "execution_count": null,
      "metadata": {
        "colab": {
          "base_uri": "https://localhost:8080/"
        },
        "id": "214PWsXjOhPP",
        "outputId": "0020586c-07ac-49d4-96bf-327f674ef3c6"
      },
      "outputs": [
        {
          "name": "stdout",
          "output_type": "stream",
          "text": [
            "What is your age313\n",
            "15\n",
            "What is your age4\n",
            "10\n",
            "What is your age1\n",
            "free\n",
            "What is your agequit\n"
          ]
        }
      ],
      "source": [
        "\n",
        "while True:\n",
        "  age= input('What is your age')\n",
        "  if(age=='quit'):\n",
        "    break\n",
        "  age=int(age)\n",
        "  if(age<3):\n",
        "    print('free')\n",
        "  elif age >=3 and age <12:\n",
        "    print('10')\n",
        "  elif age>=12:\n",
        "    print('15')\n"
      ]
    },
    {
      "cell_type": "code",
      "execution_count": null,
      "metadata": {
        "colab": {
          "base_uri": "https://localhost:8080/"
        },
        "id": "iega-t64PQTc",
        "outputId": "0fd8b760-dade-47fa-91b3-d73c43194287"
      },
      "outputs": [
        {
          "name": "stdout",
          "output_type": "stream",
          "text": [
            "We have made u a chicken sandwich\n",
            "We have made u a apple sandwich\n",
            "We have made u a cheese sandwich\n",
            "We have made u a ham sandwich\n"
          ]
        }
      ],
      "source": [
        "sandwiches_to_do=[\"ham\",'cheese','apple','chicken']\n",
        "sandwiches_finished=[]\n",
        "while sandwiches_to_do:\n",
        "  finished=sandwiches_to_do.pop()\n",
        "  sandwiches_finished.append(finished)\n",
        "for f in sandwiches_finished:\n",
        "  print(f'We have made u a {f} sandwich')"
      ]
    },
    {
      "cell_type": "code",
      "execution_count": null,
      "metadata": {
        "colab": {
          "base_uri": "https://localhost:8080/"
        },
        "id": "_spfXossRjcq",
        "outputId": "60e0abff-66af-4e21-ab90-7f615a1d1200"
      },
      "outputs": [
        {
          "name": "stdout",
          "output_type": "stream",
          "text": [
            "we have run out of pastrami\n",
            "We have made u a chicken sandwich\n",
            "We have made u a apple sandwich\n",
            "We have made u a cheese sandwich\n",
            "We have made u a ham sandwich\n"
          ]
        }
      ],
      "source": [
        "\n",
        "\n",
        "\n",
        "sandwiches_to_do=[\"ham\",'pastrami','cheese','apple','pastrami','chicken','pastrami']\n",
        "sandwiches_finished=[]\n",
        "print('we have run out of pastrami')\n",
        "while 'pastrami' in  sandwiches_to_do:\n",
        "  sandwiches_to_do.remove('pastrami')\n",
        "while sandwiches_to_do:\n",
        "  finished=sandwiches_to_do.pop()\n",
        "  sandwiches_finished.append(finished)\n",
        "for f in sandwiches_finished:\n",
        "  print(f'We have made u a {f} sandwich')"
      ]
    },
    {
      "cell_type": "code",
      "execution_count": null,
      "metadata": {
        "colab": {
          "base_uri": "https://localhost:8080/"
        },
        "id": "-dMG0K5PSSSo",
        "outputId": "1040021c-b4ef-4ea5-b0a9-c3593157198d"
      },
      "outputs": [
        {
          "name": "stdout",
          "output_type": "stream",
          "text": [
            "what is ur nameJack\n",
            "where u want to goUSA\n",
            "Continue poll? Y/Ny\n",
            "what is ur namePeter\n",
            "where u want to goHK\n",
            "Continue poll? Y/NY\n",
            "what is ur nameMark\n",
            "where u want to goDenmark\n",
            "Continue poll? Y/NN\n",
            "Jack want to go USA\n",
            "Peter want to go HK\n",
            "Mark want to go Denmark\n"
          ]
        }
      ],
      "source": [
        "import builtins\n",
        "input = builtins.input\n",
        "poll_result=[]\n",
        "\n",
        "ans=''\n",
        "while  ans!= 'N':\n",
        "  res={}\n",
        "  name= input(\"what is ur name\")\n",
        "\n",
        "  place=input('where u want to go')\n",
        "\n",
        "  res[name]=place\n",
        "\n",
        "  poll_result.append(res)\n",
        "\n",
        "  ans= input('Continue poll? Y/N')\n",
        "\n",
        "for res in poll_result:\n",
        "  for k,v in res.items():\n",
        "    print(f\"{k} want to go {v}\")\n",
        "\n"
      ]
    },
    {
      "cell_type": "code",
      "execution_count": null,
      "metadata": {
        "colab": {
          "base_uri": "https://localhost:8080/"
        },
        "id": "nNn_ARSWTVut",
        "outputId": "b8b275fd-888c-4838-f2ce-bd33ac4f4058"
      },
      "outputs": [
        {
          "name": "stdout",
          "output_type": "stream",
          "text": [
            "I am learning how to write function in py\n"
          ]
        }
      ],
      "source": [
        "def displayDoing():\n",
        "  print('I am learning how to write function in py')\n",
        "displayDoing()"
      ]
    },
    {
      "cell_type": "code",
      "execution_count": null,
      "metadata": {
        "colab": {
          "base_uri": "https://localhost:8080/"
        },
        "id": "1q3M_Y-apAmr",
        "outputId": "b263b25f-3db8-4658-9b76-32e0d25db7cf"
      },
      "outputs": [
        {
          "name": "stdout",
          "output_type": "stream",
          "text": [
            "I like reading Frozen\n"
          ]
        }
      ],
      "source": [
        "def displayFavBook(title):\n",
        "  print(f\"I like reading {title}\")\n",
        "\n",
        "displayFavBook(\"Frozen\")"
      ]
    },
    {
      "cell_type": "code",
      "execution_count": null,
      "metadata": {
        "colab": {
          "base_uri": "https://localhost:8080/"
        },
        "id": "ZcKuSteRpeFa",
        "outputId": "1da1f42a-c226-4e69-f54c-27390299ff5b"
      },
      "outputs": [
        {
          "name": "stdout",
          "output_type": "stream",
          "text": [
            "Printing Tee with M Size and \"I love HK\" asMessage\n",
            "Printing Tee with L Size and \"I eat pizza\" asMessage\n"
          ]
        }
      ],
      "source": [
        "def printTee(size,message):\n",
        "  print(f'Printing Tee with {size} Size and \"{message}\" asMessage')\n",
        "printTee('M',\"I love HK\")\n",
        "printTee(message=\"I eat pizza\",size=\"L\")"
      ]
    },
    {
      "cell_type": "code",
      "execution_count": null,
      "metadata": {
        "colab": {
          "base_uri": "https://localhost:8080/"
        },
        "id": "USOM-NyTsYna",
        "outputId": "904f0f94-7a5f-4031-f242-8133d2fb1564"
      },
      "outputs": [
        {
          "name": "stdout",
          "output_type": "stream",
          "text": [
            "Printing Tee with M Size and \"I love HK\" asMessage\n",
            "Printing Tee with S Size and \"I eat pizza\" asMessage\n"
          ]
        }
      ],
      "source": [
        "def printTee(message,size=\"S\"): #params with default must be placed after those without default value\n",
        "  print(f'Printing Tee with {size} Size and \"{message}\" asMessage')\n",
        "printTee(\"I love HK\",'M')\n",
        "printTee(message=\"I eat pizza\")"
      ]
    },
    {
      "cell_type": "code",
      "execution_count": null,
      "metadata": {
        "colab": {
          "base_uri": "https://localhost:8080/"
        },
        "id": "hYaMlT4gslop",
        "outputId": "147224ee-32c6-4dd0-eb88-1ad197fd2afe"
      },
      "outputs": [
        {
          "name": "stdout",
          "output_type": "stream",
          "text": [
            "New York is located in USA\n",
            "HKSAR is located in China\n",
            "Leon is located in France\n"
          ]
        }
      ],
      "source": [
        "def describe_city(city,country=\"USA\"):\n",
        "  print(f\"{city} is located in {country}\")\n",
        "\n",
        "\n",
        "describe_city(\"New York\")\n",
        "describe_city(\"HKSAR\",\"China\")\n",
        "describe_city(country=\"France\",city=\"Leon\")"
      ]
    },
    {
      "cell_type": "code",
      "execution_count": null,
      "metadata": {
        "colab": {
          "base_uri": "https://localhost:8080/"
        },
        "id": "T3sEf2fWtMl4",
        "outputId": "2547b287-4600-405e-c5d4-0d12fad97f08"
      },
      "outputs": [
        {
          "name": "stdout",
          "output_type": "stream",
          "text": [
            "Santiago, Chile\n"
          ]
        }
      ],
      "source": [
        "def city_country(city,country):\n",
        "  return f\"{city}, {country}\"\n",
        "\n",
        "print(city_country('Santiago','Chile'))"
      ]
    },
    {
      "cell_type": "code",
      "execution_count": null,
      "metadata": {
        "colab": {
          "base_uri": "https://localhost:8080/"
        },
        "id": "wFxBqD3hzxsG",
        "outputId": "0c7dd586-8f2c-4e91-9cf6-73fc23edecb3"
      },
      "outputs": [
        {
          "name": "stdout",
          "output_type": "stream",
          "text": [
            "{'title': 'Some Pop', 'artist': 'Eunji'}\n",
            "{'title': 'Some Can', 'artist': 'ABCJason', 'num_songs': 3}\n"
          ]
        }
      ],
      "source": [
        "def buildAlbum(title,artist,num_songs=None):\n",
        "  album={}\n",
        "  album['title']=title\n",
        "  album['artist']=artist\n",
        "\n",
        "  if (num_songs):\n",
        "    album['num_songs']=num_songs\n",
        "\n",
        "\n",
        "  return album\n",
        "\n",
        "print(buildAlbum(\"Some Pop\",\"Eunji\"))\n",
        "\n",
        "print(buildAlbum(\"Some Can\",\"ABCJason\",3))"
      ]
    },
    {
      "cell_type": "code",
      "execution_count": null,
      "metadata": {
        "colab": {
          "base_uri": "https://localhost:8080/"
        },
        "id": "1FF3LhCo0RLi",
        "outputId": "b63abb6a-f883-4e28-a0db-656a9ea78ddf"
      },
      "outputs": [
        {
          "name": "stdout",
          "output_type": "stream",
          "text": [
            "What is artist name?Eunji\n",
            "What is Title of albumNonono\n",
            "{'title': 'Nonono', 'artist': 'Eunji'}\n",
            "What is artist name?blackpink\\\n",
            "What is Title of albumboombayah\n",
            "{'title': 'boombayah', 'artist': 'blackpink\\\\'}\n",
            "What is artist name?jacky chan\n",
            "What is Title of albumgood world\n",
            "{'title': 'good world', 'artist': 'jacky chan'}\n",
            "What is artist name?q\n"
          ]
        }
      ],
      "source": [
        "while True:\n",
        "  artistIn= input('What is artist name?')\n",
        "  if artistIn=='q':\n",
        "    break;\n",
        "  titleIn= input('What is Title of album')\n",
        "  if titleIn=='q':\n",
        "    break\n",
        "  print(buildAlbum(artist=artistIn,title=titleIn))"
      ]
    },
    {
      "cell_type": "code",
      "execution_count": null,
      "metadata": {
        "colab": {
          "base_uri": "https://localhost:8080/"
        },
        "id": "kUtSBZ6H6gdw",
        "outputId": "f1d17935-8759-4003-9a96-04d82c8a3b58"
      },
      "outputs": [
        {
          "name": "stdout",
          "output_type": "stream",
          "text": [
            "hello hk\n",
            "My name is blue\n",
            "I love red\n"
          ]
        }
      ],
      "source": [
        "li_message = ['hello hk','My name is blue','I love red']\n",
        "def printmessage(messages):\n",
        "  for m in messages:\n",
        "    print(m)\n",
        "printmessage(li_message)"
      ]
    },
    {
      "cell_type": "code",
      "execution_count": null,
      "metadata": {
        "colab": {
          "base_uri": "https://localhost:8080/"
        },
        "id": "0XdfFQdUCfNg",
        "outputId": "26fb8f42-ad34-4d29-e4a8-16efb6c05f9e"
      },
      "outputs": [
        {
          "name": "stdout",
          "output_type": "stream",
          "text": [
            "I love red\n",
            "My name is blue\n",
            "hello hk\n",
            "[]\n",
            "['I love red', 'My name is blue', 'hello hk']\n"
          ]
        }
      ],
      "source": [
        "li_message = ['hello hk','My name is blue','I love red']\n",
        "li_printed=[]\n",
        "def printmessage(messages):\n",
        "  while messages:\n",
        "    msg=messages.pop()\n",
        "    li_printed.append(msg)\n",
        "    print(msg)\n",
        "\n",
        "printmessage(li_message)\n",
        "\n",
        "\n",
        "print(li_message)\n",
        "print(li_printed)\n"
      ]
    },
    {
      "cell_type": "code",
      "execution_count": null,
      "metadata": {
        "colab": {
          "base_uri": "https://localhost:8080/"
        },
        "id": "0bQ-7NluDGY0",
        "outputId": "c4822f5e-98ed-4483-eb5a-18e4c160e9f9"
      },
      "outputs": [
        {
          "name": "stdout",
          "output_type": "stream",
          "text": [
            "I love red\n",
            "My name is blue\n",
            "hello hk\n",
            "['hello hk', 'My name is blue', 'I love red']\n",
            "['I love red', 'My name is blue', 'hello hk']\n"
          ]
        }
      ],
      "source": [
        "li_message = ['hello hk','My name is blue','I love red']\n",
        "li_printed=[]\n",
        "def printmessage(messages):\n",
        "  while messages:\n",
        "    msg=messages.pop()\n",
        "    li_printed.append(msg)\n",
        "    print(msg)\n",
        "\n",
        "printmessage(li_message[:])\n",
        "\n",
        "\n",
        "print(li_message)\n",
        "print(li_printed)"
      ]
    },
    {
      "cell_type": "code",
      "execution_count": null,
      "metadata": {
        "colab": {
          "base_uri": "https://localhost:8080/"
        },
        "id": "lHdvMm3MDrHn",
        "outputId": "b6a6ae26-627d-4ef8-db15-8bd44b461431"
      },
      "outputs": [
        {
          "name": "stdout",
          "output_type": "stream",
          "text": [
            "making sandwich with:\n",
            "- ham\n",
            "making sandwich with:\n",
            "- ham\n",
            "- cheese\n",
            "- pineapple\n"
          ]
        }
      ],
      "source": [
        "                                                                                             # *args - build tuple when passed\n",
        "def make_sandwich(*ingredient):\n",
        "  print('making sandwich with:')\n",
        "  for i in ingredient:\n",
        "    print(f\"- {i}\")\n",
        "make_sandwich('ham')\n",
        "make_sandwich('ham','cheese','pineapple')"
      ]
    },
    {
      "cell_type": "code",
      "execution_count": null,
      "metadata": {
        "colab": {
          "base_uri": "https://localhost:8080/"
        },
        "id": "sq46HepqIslD",
        "outputId": "14433978-265d-47ac-a2ac-23b1c432d761"
      },
      "outputs": [
        {
          "name": "stdout",
          "output_type": "stream",
          "text": [
            "{'first_name': 'tai man', 'last_name': 'chan'}\n",
            "{'hobbies': 'cycling', 'uni': 'standford', 'first_name': 'tai man', 'last_name': 'chan'}\n"
          ]
        }
      ],
      "source": [
        "# **kwargs - build  dictionary when passed\n",
        "def build_person(first_name,last_name,**kwargs):\n",
        "  kwargs['first_name']=first_name\n",
        "  kwargs['last_name']=last_name\n",
        "  return kwargs\n",
        "\n",
        "print(build_person('tai man','chan'))\n",
        "print(build_person('tai man','chan',hobbies='cycling',uni='standford'))"
      ]
    },
    {
      "cell_type": "code",
      "execution_count": null,
      "metadata": {
        "colab": {
          "base_uri": "https://localhost:8080/"
        },
        "id": "-cwpPVT2JhVd",
        "outputId": "8336c909-ef57-44d7-ae87-26670389e8dc"
      },
      "outputs": [
        {
          "data": {
            "text/plain": [
              "{'color': 'black', 'tow_package': True, 'brand': 'subaru', 'model': 'outback'}"
            ]
          },
          "execution_count": 9,
          "metadata": {},
          "output_type": "execute_result"
        }
      ],
      "source": [
        "def build_car(brand,model,**kwargs):\n",
        "  kwargs['brand']=brand\n",
        "  kwargs['model']=model\n",
        "  return kwargs\n",
        "build_car('subaru','outback',color='black',tow_package=True)"
      ]
    },
    {
      "cell_type": "code",
      "execution_count": 1,
      "metadata": {
        "id": "LTwX7iNXTZQJ"
      },
      "outputs": [],
      "source": [
        "# import pizza as p\n",
        "# p.makepizza()\n",
        "\n",
        "# from pizza import make_pizza as mp\n",
        "# make_pizza()\n",
        "\n",
        "\n"
      ]
    }
  ],
  "metadata": {
    "colab": {
      "provenance": []
    },
    "kernelspec": {
      "display_name": "base",
      "language": "python",
      "name": "python3"
    },
    "language_info": {
      "codemirror_mode": {
        "name": "ipython",
        "version": 3
      },
      "file_extension": ".py",
      "mimetype": "text/x-python",
      "name": "python",
      "nbconvert_exporter": "python",
      "pygments_lexer": "ipython3",
      "version": "3.13.5"
    }
  },
  "nbformat": 4,
  "nbformat_minor": 0
}
